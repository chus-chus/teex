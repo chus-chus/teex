{
 "cells": [
  {
   "cell_type": "markdown",
   "metadata": {},
   "source": [
    "# TAIAOexp\n",
    "\n",
    "### Evaluation of explanation quality: saliency maps\n",
    "\n",
    "Jesús Antoñanzas, under the supervision of Dr. Alvin Jia\n",
    "\n",
    "<p float=\"left\">\n",
    "  <img src=\"https://www.bourses-etudiants.ma/wp-content/uploads/2018/06/University-of-Waikato-logo.png\" alt=\"drawing\" style=\"width:300px;\"/>\n",
    "  \n",
    "  <img src=\"https://taiao.ai/img/6825_TAIAO_logo_1000x320.jpg\" alt=\"drawing\" style=\"width:250px;\"/>\n",
    "</p>"
   ]
  },
  {
   "cell_type": "markdown",
   "metadata": {},
   "source": [
    "In this notebook, we are going to explore how we can use TAIAOexp to compare image explanation methods."
   ]
  },
  {
   "cell_type": "markdown",
   "metadata": {},
   "source": [
    "## 1. Explaining synthetic image data"
   ]
  },
  {
   "cell_type": "markdown",
   "metadata": {},
   "source": [
    "In this section, we are going to \n",
    "1. Generate image data with available g.t. explanations using the 'seneca' method.\n",
    "2. Create and train a pytorch classifier that will learn to recognize the pattern in the images.\n",
    "3. Generate explanations with some model agnostic methods and evaluate them w.r.t. the ground truth explanations."
   ]
  },
  {
   "cell_type": "code",
   "execution_count": 1,
   "metadata": {},
   "outputs": [
    {
     "name": "stdout",
     "output_type": "stream",
     "text": [
      "/home/ajia/TAIAOexp/TAIAOexp\n"
     ]
    }
   ],
   "source": [
    "%cd ../../TAIAOexp/"
   ]
  },
  {
   "cell_type": "code",
   "execution_count": 2,
   "metadata": {},
   "outputs": [],
   "source": [
    "import matplotlib.pyplot as plt\n",
    "\n",
    "import numpy as np\n",
    "import pandas as pd\n",
    "\n",
    "import torch\n",
    "import torch.nn as nn\n",
    "import torch.optim as optim\n",
    "import torch.nn.functional as F\n",
    "\n",
    "from sklearn.model_selection import train_test_split\n",
    "from sklearn.metrics import accuracy_score, f1_score\n",
    "\n",
    "from math import floor\n",
    "\n",
    "from saliencyMap import gen_synthetic_imgs"
   ]
  },
  {
   "cell_type": "markdown",
   "metadata": {},
   "source": [
    "### 1.1. Generating the data"
   ]
  },
  {
   "cell_type": "code",
   "execution_count": 3,
   "metadata": {},
   "outputs": [
    {
     "data": {
      "text/plain": [
       "Text(0.5, 1.0, 'Explanation')"
      ]
     },
     "execution_count": 3,
     "metadata": {},
     "output_type": "execute_result"
    },
    {
     "data": {
      "image/png": "[encoded data removed]",
      "text/plain": [
       "<Figure size 432x288 with 3 Axes>"
      ]
     },
     "metadata": {
      "needs_background": "light"
     },
     "output_type": "display_data"
    }
   ],
   "source": [
    "X, y, exps, pat = gen_synthetic_imgs(method='seneca', nSamples=10000, randomState=7)\n",
    "\n",
    "fig, axs = plt.subplots(1, 3)\n",
    "axs[0].imshow(pat)\n",
    "axs[0].set_title('Pattern')\n",
    "axs[1].imshow(X[0])\n",
    "axs[1].set_title('Generated image')\n",
    "axs[2].imshow(exps[0])\n",
    "axs[2].set_title('Explanation')"
   ]
  },
  {
   "cell_type": "markdown",
   "metadata": {},
   "source": [
    "### 1.2. Declaring and training the model"
   ]
  },
  {
   "cell_type": "markdown",
   "metadata": {},
   "source": [
    "Declare a simple LeNet variant and its training routine."
   ]
  },
  {
   "cell_type": "code",
   "execution_count": 4,
   "metadata": {},
   "outputs": [],
   "source": [
    "class FCNN(nn.Module):\n",
    "    \"\"\" Basic NN for image classification. \"\"\"\n",
    "\n",
    "    def __init__(self, imH, imW, cellH):\n",
    "        super(FCNN, self).__init__()\n",
    "        stride = 1\n",
    "        kSize = 5\n",
    "        self.conv1 = nn.Conv2d(3, 6, kernel_size=kSize, stride=stride)\n",
    "        self.H1, self.W1 = floor(((imH - kSize) / stride) + 1), floor(((imW - kSize) / stride) + 1)\n",
    "        self.conv2 = nn.Conv2d(6, 3, kernel_size=kSize, stride=stride)\n",
    "        self.H2, self.W2 = floor(((self.H1 - kSize) / stride) + 1), floor(((self.W1 - kSize) / stride) + 1)\n",
    "        self.conv3 = nn.Conv2d(3, 1, kernel_size=kSize, stride=stride)\n",
    "        self.H3, self.W3 = floor(((self.H2 - kSize) / stride) + 1), floor(((self.W2 - kSize) / stride) + 1)\n",
    "        self.fc1 = nn.Linear(self.H3 * self.W3, 100)\n",
    "        self.fc2 = nn.Linear(100, 2)\n",
    "\n",
    "    def forward(self, x):\n",
    "        if len(x.shape) == 3:\n",
    "            # single instance, add the batch dimension\n",
    "            print(x.shape)\n",
    "            x = x.view(-1, x.shape[2], x.shape[1], x.shape[0])\n",
    "        \n",
    "        x = F.relu(self.conv1(x))\n",
    "        x = F.relu(self.conv2(x))\n",
    "        x = F.relu(self.conv3(x))\n",
    "        x = F.relu(self.fc1(x.view(x.shape[0], -1)))\n",
    "        x = self.fc2(x)\n",
    "        return x\n",
    "    \n",
    "# sample training function for binary classification\n",
    "def train_net(model, X, y, XVal, yVal, randomState=888):\n",
    "    \"\"\" X: FloatTensor, y: LongTensor \"\"\"\n",
    "    torch.manual_seed(randomState)\n",
    "    batchSize = 50\n",
    "    nEpochs = 100\n",
    "    criterion = nn.CrossEntropyLoss()\n",
    "    optimizer = optim.Adam(model.parameters(), lr=1e-3)\n",
    "    \n",
    "    bestValAcc = -np.inf\n",
    "    for epoch in range(nEpochs):\n",
    "        model.train()\n",
    "        for batch in range(int(len(X) / batchSize)):\n",
    "            XBatch = X[batch:batch + batchSize]\n",
    "            yBatch = y[batch:batch + batchSize]\n",
    "            model.zero_grad()\n",
    "            out = model(XBatch)\n",
    "            loss = criterion(out, yBatch)\n",
    "            loss.backward()\n",
    "            optimizer.step()\n",
    "        model.eval()\n",
    "        avgLoss = 0\n",
    "        avgAcc = 0\n",
    "        for batch in range(int(len(X) / batchSize)):\n",
    "            XBatch = X[batch:batch + batchSize]\n",
    "            yBatch = y[batch:batch + batchSize]\n",
    "            out = model(XBatch)\n",
    "            loss = criterion(out, yBatch)\n",
    "            avgLoss += loss.item()\n",
    "            preds = F.softmax(out, dim=-1).argmax(dim=1)\n",
    "            acc = accuracy_score(yBatch, preds.detach().numpy())\n",
    "            avgAcc += acc\n",
    "        \n",
    "        avgValLoss = 0\n",
    "        avgValAcc = 0\n",
    "        for batch in range(int(len(XVal) / batchSize)):\n",
    "            XBatch = XVal[batch:batch + batchSize]\n",
    "            yBatch = yVal[batch:batch + batchSize]\n",
    "            out = model(XBatch)\n",
    "            loss = criterion(out, yBatch)\n",
    "            avgValLoss += loss.item()\n",
    "            preds = F.softmax(out, dim=-1).argmax(dim=1)\n",
    "            acc = accuracy_score(yBatch, preds.detach().numpy())\n",
    "            avgValAcc += acc\n",
    "        \n",
    "        avgValAcc /= int(len(XVal) / batchSize)\n",
    "        avgLoss /= int(len(X) / batchSize)\n",
    "        avgAcc /= int(len(X) / batchSize)\n",
    "        \n",
    "        # early stoppage\n",
    "        if avgValAcc >= bestValAcc:\n",
    "            bestValAcc = avgValAcc\n",
    "        else:\n",
    "            break\n",
    "\n",
    "    return model, avgLoss, avgAcc"
   ]
  },
  {
   "cell_type": "markdown",
   "metadata": {},
   "source": [
    "We cast the images to torch.Tensor type and get train, validation and test splits."
   ]
  },
  {
   "cell_type": "code",
   "execution_count": 5,
   "metadata": {},
   "outputs": [],
   "source": [
    "XTrain, XTest, yTrain, yTest, expsTrain, expsTest = train_test_split(X, y, exps, train_size=0.8, random_state=7)\n",
    "XTrain, XVal, yTrain, yVal, expsTrain, expsVal = train_test_split(XTrain, yTrain, expsTrain, train_size=0.6, random_state=7)\n",
    "\n",
    "XTrain = torch.FloatTensor(XTrain).permute(0, 3, 1, 2)\n",
    "yTrain = torch.LongTensor(yTrain)\n",
    "XVal = torch.FloatTensor(XVal).permute(0, 3, 1, 2)\n",
    "yVal = torch.LongTensor(yVal)\n",
    "XTest = torch.FloatTensor(XTest).permute(0, 3, 1, 2)"
   ]
  },
  {
   "cell_type": "markdown",
   "metadata": {},
   "source": [
    "and train the network"
   ]
  },
  {
   "cell_type": "code",
   "execution_count": 6,
   "metadata": {},
   "outputs": [],
   "source": [
    "nFeatures = len(XTrain[0].flatten())\n",
    "model, trLoss, trAcc = train_net(FCNN(imH=32, imW=32, cellH=4), XTrain, yTrain, XVal, yVal, randomState=7)"
   ]
  },
  {
   "cell_type": "code",
   "execution_count": 7,
   "metadata": {},
   "outputs": [
    {
     "name": "stdout",
     "output_type": "stream",
     "text": [
      "Tr. loss: 0.019, Tr. accuracy: 0.997\n",
      "Validation F1: 0.752\n",
      "Test F1: 0.758\n"
     ]
    }
   ],
   "source": [
    "print(f'Tr. loss: {round(trLoss, 3)}, Tr. accuracy: {round(trAcc, 3)}')\n",
    "print(f'Validation F1: {round(f1_score(yVal, F.softmax(model(torch.FloatTensor(XVal)), dim=-1).argmax(dim=1).detach().numpy()), 3)}')\n",
    "print(f'Test F1: {round(f1_score(yTest, F.softmax(model(torch.FloatTensor(XTest)), dim=-1).argmax(dim=1).detach().numpy()), 3)}')"
   ]
  },
  {
   "cell_type": "markdown",
   "metadata": {},
   "source": [
    "### 1.3. Generating and evaluating explanations"
   ]
  },
  {
   "cell_type": "markdown",
   "metadata": {},
   "source": [
    "With the model trained on the synthetic images, we generate explanations. Althogh not its primary intent, TAIAOexp contains an util to generate Captum explanations. Feel free to use whatever library you may like."
   ]
  },
  {
   "cell_type": "code",
   "execution_count": 8,
   "metadata": {},
   "outputs": [
    {
     "ename": "ModuleNotFoundError",
     "evalue": "No module named '_utils'",
     "output_type": "error",
     "traceback": [
      "\u001b[0;31m---------------------------------------------------------------------------\u001b[0m",
      "\u001b[0;31mModuleNotFoundError\u001b[0m                       Traceback (most recent call last)",
      "\u001b[0;32m<ipython-input-8-0e9b64dccb12>\u001b[0m in \u001b[0;36m<module>\u001b[0;34m\u001b[0m\n\u001b[0;32m----> 1\u001b[0;31m \u001b[0;32mfrom\u001b[0m \u001b[0mexplanation\u001b[0m\u001b[0;34m.\u001b[0m\u001b[0mimages\u001b[0m \u001b[0;32mimport\u001b[0m \u001b[0mtorch_pixel_attributions\u001b[0m\u001b[0;34m\u001b[0m\u001b[0;34m\u001b[0m\u001b[0m\n\u001b[0m\u001b[1;32m      2\u001b[0m \u001b[0;34m\u001b[0m\u001b[0m\n\u001b[1;32m      3\u001b[0m \u001b[0;31m# takes a few minutes to run\u001b[0m\u001b[0;34m\u001b[0m\u001b[0;34m\u001b[0m\u001b[0;34m\u001b[0m\u001b[0m\n\u001b[1;32m      4\u001b[0m \u001b[0mgradShapExpsTrain\u001b[0m \u001b[0;34m=\u001b[0m \u001b[0mtorch_pixel_attributions\u001b[0m\u001b[0;34m(\u001b[0m\u001b[0mmodel\u001b[0m\u001b[0;34m,\u001b[0m \u001b[0mXTrain\u001b[0m\u001b[0;34m[\u001b[0m\u001b[0myTrain\u001b[0m \u001b[0;34m==\u001b[0m \u001b[0;36m1\u001b[0m\u001b[0;34m]\u001b[0m\u001b[0;34m,\u001b[0m \u001b[0myTrain\u001b[0m\u001b[0;34m[\u001b[0m\u001b[0myTrain\u001b[0m \u001b[0;34m==\u001b[0m \u001b[0;36m1\u001b[0m\u001b[0;34m]\u001b[0m\u001b[0;34m,\u001b[0m \u001b[0mmethod\u001b[0m\u001b[0;34m=\u001b[0m\u001b[0;34m'gradientShap'\u001b[0m\u001b[0;34m)\u001b[0m\u001b[0;34m\u001b[0m\u001b[0;34m\u001b[0m\u001b[0m\n\u001b[1;32m      5\u001b[0m \u001b[0mintGradExpsTrain\u001b[0m \u001b[0;34m=\u001b[0m \u001b[0mtorch_pixel_attributions\u001b[0m\u001b[0;34m(\u001b[0m\u001b[0mmodel\u001b[0m\u001b[0;34m,\u001b[0m \u001b[0mXTrain\u001b[0m\u001b[0;34m[\u001b[0m\u001b[0myTrain\u001b[0m \u001b[0;34m==\u001b[0m \u001b[0;36m1\u001b[0m\u001b[0;34m]\u001b[0m\u001b[0;34m,\u001b[0m \u001b[0myTrain\u001b[0m\u001b[0;34m[\u001b[0m\u001b[0myTrain\u001b[0m \u001b[0;34m==\u001b[0m \u001b[0;36m1\u001b[0m\u001b[0;34m]\u001b[0m\u001b[0;34m,\u001b[0m \u001b[0mmethod\u001b[0m\u001b[0;34m=\u001b[0m\u001b[0;34m'integratedGradient'\u001b[0m\u001b[0;34m)\u001b[0m\u001b[0;34m\u001b[0m\u001b[0;34m\u001b[0m\u001b[0m\n",
      "\u001b[0;32m~/TAIAOexp/TAIAOexp/explanation/images.py\u001b[0m in \u001b[0;36m<module>\u001b[0;34m\u001b[0m\n\u001b[1;32m      9\u001b[0m \u001b[0;32mfrom\u001b[0m \u001b[0mcaptum\u001b[0m\u001b[0;34m.\u001b[0m\u001b[0mattr\u001b[0m \u001b[0;32mimport\u001b[0m \u001b[0mLimeBase\u001b[0m\u001b[0;34m\u001b[0m\u001b[0;34m\u001b[0m\u001b[0m\n\u001b[1;32m     10\u001b[0m \u001b[0;34m\u001b[0m\u001b[0m\n\u001b[0;32m---> 11\u001b[0;31m \u001b[0;32mfrom\u001b[0m \u001b[0m_utils\u001b[0m\u001b[0;34m.\u001b[0m\u001b[0mimage\u001b[0m \u001b[0;32mimport\u001b[0m \u001b[0mnormalize_array\u001b[0m\u001b[0;34m\u001b[0m\u001b[0;34m\u001b[0m\u001b[0m\n\u001b[0m\u001b[1;32m     12\u001b[0m \u001b[0;34m\u001b[0m\u001b[0m\n\u001b[1;32m     13\u001b[0m \u001b[0;34m\u001b[0m\u001b[0m\n",
      "\u001b[0;31mModuleNotFoundError\u001b[0m: No module named '_utils'"
     ]
    }
   ],
   "source": [
    "from explanation.images import torch_pixel_attributions\n",
    "\n",
    "# takes a few minutes to run\n",
    "gradShapExpsTrain = torch_pixel_attributions(model, XTrain[yTrain == 1], yTrain[yTrain == 1], method='gradientShap')\n",
    "intGradExpsTrain = torch_pixel_attributions(model, XTrain[yTrain == 1], yTrain[yTrain == 1], method='integratedGradient')\n",
    "deepLiftExpsTrain = torch_pixel_attributions(model, XTrain[yTrain == 1], yTrain[yTrain == 1], method='deepLift')\n",
    "occlusionExpsTrain = torch_pixel_attributions(model, XTrain[yTrain == 1], yTrain[yTrain == 1], method='occlusion', sliding_window_shapes=(3, cellH, cellW))"
   ]
  },
  {
   "cell_type": "code",
   "execution_count": null,
   "metadata": {},
   "outputs": [],
   "source": []
  }
 ],
 "metadata": {
  "kernelspec": {
   "display_name": "taiaoExp",
   "language": "python",
   "name": "taiaoexp"
  },
  "language_info": {
   "codemirror_mode": {
    "name": "ipython",
    "version": 3
   },
   "file_extension": ".py",
   "mimetype": "text/x-python",
   "name": "python",
   "nbconvert_exporter": "python",
   "pygments_lexer": "ipython3",
   "version": "3.6.9"
  }
 },
 "nbformat": 4,
 "nbformat_minor": 4
}
