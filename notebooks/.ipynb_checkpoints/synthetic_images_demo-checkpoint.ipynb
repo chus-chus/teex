{
 "cells": [
  {
   "cell_type": "markdown",
   "metadata": {},
   "source": [
    "# TAIAOexp\n",
    "\n",
    "### Evaluation of explanation quality with synthetic image data\n",
    "\n",
    "Jesús Antoñanzas, under the supervision of Dr. Alvin Jia\n",
    "\n",
    "<p float=\"left\">\n",
    "  <img src=\"https://www.bourses-etudiants.ma/wp-content/uploads/2018/06/University-of-Waikato-logo.png\" alt=\"drawing\" style=\"width:300px;\"/>\n",
    "  \n",
    "  <img src=\"https://taiao.ai/img/6825_TAIAO_logo_1000x320.jpg\" alt=\"drawing\" style=\"width:250px;\"/>\n",
    "</p>"
   ]
  },
  {
   "cell_type": "code",
   "execution_count": 1,
   "metadata": {},
   "outputs": [
    {
     "name": "stdout",
     "output_type": "stream",
     "text": [
      "/home/ajia/TAIAOexp\n"
     ]
    }
   ],
   "source": [
    "%cd .."
   ]
  },
  {
   "cell_type": "code",
   "execution_count": 2,
   "metadata": {},
   "outputs": [],
   "source": [
    "import matplotlib.pyplot as plt\n",
    "import numpy as np\n",
    "import pandas as pd\n",
    "import altair as alt\n",
    "\n",
    "import torch\n",
    "import torch\n",
    "import torch.nn as nn\n",
    "import torch.optim as optim\n",
    "import torch.nn.functional as F\n",
    "\n",
    "from sklearn.model_selection import train_test_split\n",
    "from sklearn.metrics import accuracy_score\n",
    "\n",
    "from math import floor"
   ]
  },
  {
   "cell_type": "markdown",
   "metadata": {},
   "source": [
    "#### 1. Generating the images"
   ]
  },
  {
   "cell_type": "markdown",
   "metadata": {},
   "source": [
    "Let's generate artificial image data. The generated images are composed of squared cells of a fixed size and randomly colored as (almost) Red, Green or Blue. A number of these images contain a randomly generated pattern such that the ones that do so are labeled as '1' and the ones that are not are labeled as '0'. If an image contains the pattern, then the ground truth explanation is a binary mask of the same dimensions where the pattern is highlighted. The user can control: \n",
    "\n",
    "- Image width and height, in pixels\n",
    "- Image cell width and height, in pixels and divisor of image width and height\n",
    "- The proportion of the image that should be filled with cells (fillPct)\n",
    "- Pattern height and width, in pixels. The number of pixels the randomly generated pattern will take (divisor of image width and height). The previous parameter 'fillPct' also specifies the number of cells filled in the pattern.\n",
    "- The percentage of images that contain the pattern 'patternProp'\n",
    "- colorDev: [0, 0.5] If 0, each cell will be completely red, green or blue. The greater (max 0.5), the more mixed will colored channels be. Adds complexity to the task of classification."
   ]
  },
  {
   "cell_type": "code",
   "execution_count": 3,
   "metadata": {},
   "outputs": [],
   "source": [
    "from syntheticData.image import gen_image_data\n",
    "\n",
    "nSamples = 100\n",
    "randomState = 8\n",
    "imageH, imageW = 32, 32\n",
    "patternH, patternW = 16, 16\n",
    "cellH, cellW = 4, 4\n",
    "patternProp = 0.5\n",
    "fillPct = 0.4\n",
    "colorDev = 0.1\n",
    "\n",
    "X, y, exps, pat = gen_image_data(nSamples=nSamples, imageH=imageH, imageW=imageW, \n",
    "                                 patternH=patternH, patternW=patternW,\n",
    "                                 cellH=cellH, cellW=cellW, patternProp=patternProp, \n",
    "                                 fillPct=fillPct, colorDev=colorDev, randomState=randomState)"
   ]
  },
  {
   "cell_type": "markdown",
   "metadata": {},
   "source": [
    "**X** contains the generated images, **y** the labels, **exps** the ground truth explanations and **pat** the exact pattern contained by the images."
   ]
  },
  {
   "cell_type": "markdown",
   "metadata": {},
   "source": [
    "#### Exploring the images"
   ]
  },
  {
   "cell_type": "markdown",
   "metadata": {},
   "source": [
    "Some of the generated images contain the following pattern:"
   ]
  },
  {
   "cell_type": "code",
   "execution_count": 4,
   "metadata": {},
   "outputs": [
    {
     "data": {
      "text/plain": [
       "<matplotlib.image.AxesImage at 0x7f02a9164b70>"
      ]
     },
     "execution_count": 4,
     "metadata": {},
     "output_type": "execute_result"
    },
    {
     "data": {
      "image/png": "[encoded data removed]",
      "text/plain": [
       "<Figure size 432x288 with 1 Axes>"
      ]
     },
     "metadata": {
      "needs_background": "light"
     },
     "output_type": "display_data"
    }
   ],
   "source": [
    "plt.imshow(pat)"
   ]
  },
  {
   "cell_type": "markdown",
   "metadata": {},
   "source": [
    "For example, the first one, which is labeled as"
   ]
  },
  {
   "cell_type": "code",
   "execution_count": 5,
   "metadata": {},
   "outputs": [
    {
     "name": "stdout",
     "output_type": "stream",
     "text": [
      "1\n"
     ]
    },
    {
     "data": {
      "text/plain": [
       "<matplotlib.image.AxesImage at 0x7f02a0fe9898>"
      ]
     },
     "execution_count": 5,
     "metadata": {},
     "output_type": "execute_result"
    },
    {
     "data": {
      "image/png": "[encoded data removed]",
      "text/plain": [
       "<Figure size 432x288 with 1 Axes>"
      ]
     },
     "metadata": {
      "needs_background": "light"
     },
     "output_type": "display_data"
    }
   ],
   "source": [
    "print(y[0])\n",
    "plt.imshow(X[0])"
   ]
  },
  {
   "cell_type": "markdown",
   "metadata": {},
   "source": [
    "contains it"
   ]
  },
  {
   "cell_type": "code",
   "execution_count": 6,
   "metadata": {},
   "outputs": [
    {
     "data": {
      "text/plain": [
       "<matplotlib.image.AxesImage at 0x7f02a0fdc0b8>"
      ]
     },
     "execution_count": 6,
     "metadata": {},
     "output_type": "execute_result"
    },
    {
     "data": {
      "image/png": "[encoded data removed]",
      "text/plain": [
       "<Figure size 432x288 with 1 Axes>"
      ]
     },
     "metadata": {
      "needs_background": "light"
     },
     "output_type": "display_data"
    }
   ],
   "source": [
    "plt.imshow(exps[0])"
   ]
  },
  {
   "cell_type": "markdown",
   "metadata": {},
   "source": [
    "for a more clear view:"
   ]
  },
  {
   "cell_type": "code",
   "execution_count": 7,
   "metadata": {},
   "outputs": [
    {
     "data": {
      "image/png": "[encoded data removed]",
      "text/plain": [
       "<Figure size 432x288 with 3 Axes>"
      ]
     },
     "metadata": {
      "needs_background": "light"
     },
     "output_type": "display_data"
    }
   ],
   "source": [
    "def plt_imgs(p, img, exp):\n",
    "    fig, axs = plt.subplots(1, 3)\n",
    "    axs[0].imshow(p)\n",
    "    axs[0].set_title('Pattern')\n",
    "    axs[1].imshow(img)\n",
    "    axs[1].set_title('Generated image')\n",
    "    axs[2].imshow(exp)\n",
    "    axs[2].set_title('Explanation')\n",
    "    \n",
    "plt_imgs(pat, X[0], exps[0])"
   ]
  },
  {
   "cell_type": "markdown",
   "metadata": {},
   "source": [
    "Not all images have the pattern in the same position:plt_imgs(pat, X[0], exps[0])"
   ]
  },
  {
   "cell_type": "code",
   "execution_count": 8,
   "metadata": {},
   "outputs": [
    {
     "data": {
      "image/png": "[encoded data removed]",
      "text/plain": [
       "<Figure size 432x288 with 3 Axes>"
      ]
     },
     "metadata": {
      "needs_background": "light"
     },
     "output_type": "display_data"
    }
   ],
   "source": [
    "plt_imgs(pat, X[6], exps[6])"
   ]
  },
  {
   "cell_type": "markdown",
   "metadata": {},
   "source": [
    "We can generate images with another pattern by changing the random state"
   ]
  },
  {
   "cell_type": "code",
   "execution_count": 9,
   "metadata": {},
   "outputs": [
    {
     "data": {
      "image/png": "[encoded data removed]",
      "text/plain": [
       "<Figure size 432x288 with 3 Axes>"
      ]
     },
     "metadata": {
      "needs_background": "light"
     },
     "output_type": "display_data"
    }
   ],
   "source": [
    "X, y, exps, pat = gen_image_data(nSamples=100, imageH=imageH, imageW=imageW, \n",
    "                                 patternH=patternH, patternW=patternW,\n",
    "                                 cellH=cellH, cellW=cellW, patternProp=patternProp, \n",
    "                                 fillPct=fillPct, colorDev=colorDev, randomState=7)\n",
    "\n",
    "plt_imgs(pat, X[1], exps[1])"
   ]
  },
  {
   "cell_type": "markdown",
   "metadata": {},
   "source": [
    "The images that do not contain a pattern have as explanation a black mask. Note that in order for the images to contain the pattern it must not only match the shape, but its colors too. We can check that we have the desired proportion of classes in the dataset:"
   ]
  },
  {
   "cell_type": "code",
   "execution_count": 10,
   "metadata": {},
   "outputs": [
    {
     "data": {
      "text/plain": [
       "True"
      ]
     },
     "execution_count": 10,
     "metadata": {},
     "output_type": "execute_result"
    }
   ],
   "source": [
    "sum(y) / len(y) == patternProp"
   ]
  },
  {
   "cell_type": "markdown",
   "metadata": {},
   "source": [
    "We can also check how changing the parameter colorDev affects the coloring of the images"
   ]
  },
  {
   "cell_type": "code",
   "execution_count": 11,
   "metadata": {},
   "outputs": [
    {
     "data": {
      "image/png": "[encoded data removed]",
      "text/plain": [
       "<Figure size 432x288 with 3 Axes>"
      ]
     },
     "metadata": {
      "needs_background": "light"
     },
     "output_type": "display_data"
    }
   ],
   "source": [
    "X, y, exps, pat = gen_image_data(nSamples=100, imageH=imageH, imageW=imageW, \n",
    "                                 patternH=patternH, patternW=patternW,\n",
    "                                 cellH=cellH, cellW=cellW, patternProp=patternProp, \n",
    "                                 fillPct=fillPct, colorDev=0.5, randomState=7)\n",
    "\n",
    "plt_imgs(pat, X[1], exps[1])"
   ]
  },
  {
   "cell_type": "markdown",
   "metadata": {},
   "source": [
    "Indeed, the pattern and the cells that are filled in the images are the same, but the colors are different."
   ]
  },
  {
   "cell_type": "markdown",
   "metadata": {},
   "source": [
    "#### 2. Exploring a white-box model"
   ]
  },
  {
   "cell_type": "markdown",
   "metadata": {},
   "source": [
    "The methods used to generate the artificial data in TAIAOexp can also return an underlying white-box model. In the case of the image data, the model can recognize if the generated pattern is contained within an observation by performing a linear scan. The models implement .fit, .predict and .predict_proba methods in order for them to easily work with explainability frameworks. We can retrieve the whitebox model by setting the parameter 'returnModel' to **True** when generating the data."
   ]
  },
  {
   "cell_type": "code",
   "execution_count": 12,
   "metadata": {},
   "outputs": [],
   "source": [
    "X, y, exps, pat, model = gen_image_data(nSamples=100, imageH=imageH, imageW=imageW, \n",
    "                                        patternH=patternH, patternW=patternW,\n",
    "                                        cellH=cellH, cellW=cellW, patternProp=patternProp, \n",
    "                                        fillPct=fillPct, colorDev=0.5, randomState=7, returnModel=True)"
   ]
  },
  {
   "cell_type": "code",
   "execution_count": 13,
   "metadata": {},
   "outputs": [
    {
     "data": {
      "text/plain": [
       "<transparentModels.pixelImportance.ImageClassifier at 0x7f02a0dd9e80>"
      ]
     },
     "execution_count": 13,
     "metadata": {},
     "output_type": "execute_result"
    }
   ],
   "source": [
    "model"
   ]
  },
  {
   "cell_type": "code",
   "execution_count": 14,
   "metadata": {},
   "outputs": [
    {
     "data": {
      "text/plain": [
       "[1, 1, 0, 0, 0]"
      ]
     },
     "execution_count": 14,
     "metadata": {},
     "output_type": "execute_result"
    }
   ],
   "source": [
    "model.predict(X[:5])"
   ]
  },
  {
   "cell_type": "code",
   "execution_count": 15,
   "metadata": {},
   "outputs": [
    {
     "data": {
      "text/plain": [
       "[[0.0, 1.0], [0.0, 1.0], [1.0, 0.0], [1.0, 0.0], [1.0, 0.0]]"
      ]
     },
     "execution_count": 15,
     "metadata": {},
     "output_type": "execute_result"
    }
   ],
   "source": [
    "model.predict_proba(X[:5])"
   ]
  },
  {
   "cell_type": "markdown",
   "metadata": {},
   "source": [
    "The model can also 'explain' instances dynamically:"
   ]
  },
  {
   "cell_type": "code",
   "execution_count": 16,
   "metadata": {},
   "outputs": [
    {
     "data": {
      "text/plain": [
       "Text(0.5, 1.0, 'Corresponding image')"
      ]
     },
     "execution_count": 16,
     "metadata": {},
     "output_type": "execute_result"
    },
    {
     "data": {
      "image/png": "[encoded data removed]",
      "text/plain": [
       "<Figure size 432x288 with 2 Axes>"
      ]
     },
     "metadata": {
      "needs_background": "light"
     },
     "output_type": "display_data"
    }
   ],
   "source": [
    "explanations = model.explain(X[:2])\n",
    "\n",
    "fig, axs = plt.subplots(1, 2)\n",
    "axs[1].imshow(explanations[0])\n",
    "axs[1].set_title('Generated explanation')\n",
    "axs[0].imshow(X[0])\n",
    "axs[0].set_title('Corresponding image')"
   ]
  },
  {
   "cell_type": "markdown",
   "metadata": {},
   "source": [
    "#### 3. Generating and evaluating explanations\n",
    "\n",
    "Let us train a pytorch image classifier that will learn to recognize the pattern in the images. \n",
    "\n",
    "From this classifier, we are going to generate explanations with some model agnostic methods and evaluate them w.r.t. the ground truth explanations."
   ]
  },
  {
   "cell_type": "code",
   "execution_count": 29,
   "metadata": {},
   "outputs": [],
   "source": [
    "class FCNN(nn.Module):\n",
    "    \"\"\" Basic NN for image classification. \"\"\"\n",
    "\n",
    "    def __init__(self, imH, imW, cellH):\n",
    "        super(FCNN, self).__init__()\n",
    "        stride = 1\n",
    "        kSize = 5\n",
    "        self.conv1 = nn.Conv2d(3, 6, kernel_size=kSize, stride=stride)\n",
    "        self.H1, self.W1 = floor(((imH - kSize) / stride) + 1), floor(((imW - kSize) / stride) + 1)\n",
    "        self.conv2 = nn.Conv2d(6, 3, kernel_size=kSize, stride=stride)\n",
    "        self.H2, self.W2 = floor(((self.H1 - kSize) / stride) + 1), floor(((self.W1 - kSize) / stride) + 1)\n",
    "        self.conv3 = nn.Conv2d(3, 1, kernel_size=kSize, stride=stride)\n",
    "        self.H3, self.W3 = floor(((self.H2 - kSize) / stride) + 1), floor(((self.W2 - kSize) / stride) + 1)\n",
    "        self.fc1 = nn.Linear(self.H3 * self.W3, 100)\n",
    "        self.fc2 = nn.Linear(100, 2)\n",
    "\n",
    "    def forward(self, x):\n",
    "        if len(x.shape) == 3:\n",
    "            # single instance, add the batch dimension\n",
    "            print(x.shape)\n",
    "            x = x.view(-1, x.shape[2], x.shape[1], x.shape[0])\n",
    "        \n",
    "        x = F.relu(self.conv1(x))\n",
    "        x = F.relu(self.conv2(x))\n",
    "        x = F.relu(self.conv3(x))\n",
    "        x = F.relu(self.fc1(x.view(x.shape[0], -1)))\n",
    "        x = self.fc2(x)\n",
    "        return x\n",
    "    \n",
    "# sample training function for binary classification\n",
    "def train_net(model, X, y, XVal, yVal, randomState=888):\n",
    "    \"\"\" X: FloatTensor, y: LongTensor \"\"\"\n",
    "    torch.manual_seed(randomState)\n",
    "    batchSize = 50\n",
    "    nEpochs = 100\n",
    "    criterion = nn.CrossEntropyLoss()\n",
    "    optimizer = optim.Adam(model.parameters(), lr=1e-3)\n",
    "    \n",
    "    bestValAcc = -np.inf\n",
    "    for epoch in range(nEpochs):\n",
    "        model.train()\n",
    "        for batch in range(int(len(X) / batchSize)):\n",
    "            XBatch = X[batch:batch + batchSize]\n",
    "            yBatch = y[batch:batch + batchSize]\n",
    "            model.zero_grad()\n",
    "            out = model(XBatch)\n",
    "            loss = criterion(out, yBatch)\n",
    "            loss.backward()\n",
    "            optimizer.step()\n",
    "        model.eval()\n",
    "        avgLoss = 0\n",
    "        avgAcc = 0\n",
    "        for batch in range(int(len(X) / batchSize)):\n",
    "            XBatch = X[batch:batch + batchSize]\n",
    "            yBatch = y[batch:batch + batchSize]\n",
    "            out = model(XBatch)\n",
    "            loss = criterion(out, yBatch)\n",
    "            avgLoss += loss.item()\n",
    "            preds = F.softmax(out, dim=-1).argmax(dim=1)\n",
    "            acc = accuracy_score(yBatch, preds.detach().numpy())\n",
    "            avgAcc += acc\n",
    "        \n",
    "        avgValLoss = 0\n",
    "        avgValAcc = 0\n",
    "        for batch in range(int(len(XVal) / batchSize)):\n",
    "            XBatch = XVal[batch:batch + batchSize]\n",
    "            yBatch = yVal[batch:batch + batchSize]\n",
    "            out = model(XBatch)\n",
    "            loss = criterion(out, yBatch)\n",
    "            avgValLoss += loss.item()\n",
    "            preds = F.softmax(out, dim=-1).argmax(dim=1)\n",
    "            acc = accuracy_score(yBatch, preds.detach().numpy())\n",
    "            avgValAcc += acc\n",
    "        \n",
    "        avgValAcc /= int(len(XVal) / batchSize)\n",
    "        avgLoss /= int(len(X) / batchSize)\n",
    "        avgAcc /= int(len(X) / batchSize)\n",
    "        \n",
    "        # early stoppage\n",
    "        if avgValAcc >= bestValAcc:\n",
    "            bestValAcc = avgValAcc\n",
    "        else:\n",
    "            break\n",
    "\n",
    "    return model, avgLoss, avgAcc"
   ]
  },
  {
   "cell_type": "markdown",
   "metadata": {},
   "source": [
    "We generate the data, split it into train, val and test and transform it to torch.FloatTensor type:"
   ]
  },
  {
   "cell_type": "code",
   "execution_count": 18,
   "metadata": {},
   "outputs": [],
   "source": [
    "X, y, exps, pat = gen_image_data(nSamples=1000, imageH=imageH, imageW=imageW, \n",
    "                                 patternH=patternH, patternW=patternW,\n",
    "                                 cellH=cellH, cellW=cellW, patternProp=patternProp, \n",
    "                                 fillPct=fillPct, colorDev=0.5, randomState=7)\n",
    "\n",
    "XTrain, XTest, yTrain, yTest, expsTrain, expsTest = train_test_split(X, y, exps, train_size=0.8, random_state=7)\n",
    "XTrain, XVal, yTrain, yVal, expsTrain, expsVal = train_test_split(XTrain, yTrain, expsTrain, train_size=0.6, random_state=7)\n",
    "\n",
    "XTrain = torch.FloatTensor(XTrain).permute(0, 3, 1, 2)\n",
    "yTrain = torch.LongTensor(yTrain)\n",
    "XVal = torch.FloatTensor(XVal).permute(0, 3, 1, 2)\n",
    "yVal = torch.LongTensor(yVal)\n",
    "XTest = torch.FloatTensor(XTest).permute(0, 3, 1, 2)"
   ]
  },
  {
   "cell_type": "markdown",
   "metadata": {},
   "source": [
    "train the network and compute metrics:"
   ]
  },
  {
   "cell_type": "code",
   "execution_count": 19,
   "metadata": {},
   "outputs": [
    {
     "name": "stdout",
     "output_type": "stream",
     "text": [
      "Tr. loss: 0.032, Tr. accuracy: 1.0\n",
      "Validation accuracy: 0.666\n",
      "Test accuracy: 0.655\n"
     ]
    }
   ],
   "source": [
    "nFeatures = len(XTrain[0].flatten())\n",
    "model, trLoss, trAcc = train_net(FCNN(imageH, imageW, cellH), XTrain, yTrain, XVal, yVal, randomState=7)\n",
    "\n",
    "print(f'Tr. loss: {round(trLoss, 3)}, Tr. accuracy: {round(trAcc, 3)}')\n",
    "print(f'Validation accuracy: {round(accuracy_score(yVal, F.softmax(model(torch.FloatTensor(XVal)), dim=-1).argmax(dim=1).detach().numpy()), 3)}')\n",
    "print(f'Test accuracy: {round(accuracy_score(yTest, F.softmax(model(torch.FloatTensor(XTest)), dim=-1).argmax(dim=1).detach().numpy()), 3)}')"
   ]
  },
  {
   "cell_type": "markdown",
   "metadata": {},
   "source": [
    "and generate explanations for the positive class images:"
   ]
  },
  {
   "cell_type": "code",
   "execution_count": 20,
   "metadata": {},
   "outputs": [
    {
     "name": "stderr",
     "output_type": "stream",
     "text": [
      "/home/ajia/.local/lib/python3.6/site-packages/captum/_utils/gradient.py:55: UserWarning: Input Tensor 0 did not already require gradients, required_grads has been set automatically.\n",
      "  \"required_grads has been set automatically.\" % index\n",
      "/home/ajia/.local/lib/python3.6/site-packages/captum/attr/_core/deep_lift.py:325: UserWarning: Setting forward, backward hooks and attributes on non-linear\n",
      "               activations. The hooks and attributes will be removed\n",
      "            after the attribution is finished\n",
      "  after the attribution is finished\"\"\"\n"
     ]
    }
   ],
   "source": [
    "from explanation.images import torch_pixel_attributions\n",
    "\n",
    "# takes a few minutes to run\n",
    "gradShapExpsTrain = torch_pixel_attributions(model, XTrain[yTrain == 1], yTrain[yTrain == 1], method='gradientShap')\n",
    "intGradExpsTrain = torch_pixel_attributions(model, XTrain[yTrain == 1], yTrain[yTrain == 1], method='integratedGradient')\n",
    "deepLiftExpsTrain = torch_pixel_attributions(model, XTrain[yTrain == 1], yTrain[yTrain == 1], method='deepLift')\n",
    "occlusionExpsTrain = torch_pixel_attributions(model, XTrain[yTrain == 1], yTrain[yTrain == 1], method='occlusion', sliding_window_shapes=(3, cellH, cellW))"
   ]
  },
  {
   "cell_type": "code",
   "execution_count": 21,
   "metadata": {},
   "outputs": [
    {
     "data": {
      "text/plain": [
       "Text(0.5, 1.0, 'occlusion')"
      ]
     },
     "execution_count": 21,
     "metadata": {},
     "output_type": "execute_result"
    },
    {
     "data": {
      "image/png": "[encoded data removed]",
      "text/plain": [
       "<Figure size 1080x1080 with 6 Axes>"
      ]
     },
     "metadata": {
      "needs_background": "light"
     },
     "output_type": "display_data"
    }
   ],
   "source": [
    "i = 4\n",
    "\n",
    "fig, axs = plt.subplots(1, 6, figsize=(15,15))\n",
    "axs[0].imshow(XTrain[yTrain == 1][i].permute(1, 2, 0))\n",
    "axs[0].set_title('Image')\n",
    "axs[1].imshow(expsTrain[yTrain == 1][i])\n",
    "axs[1].set_title('g.t. explanation')\n",
    "axs[2].imshow(intGradExpsTrain[i])\n",
    "axs[2].set_title('integratedGradient')\n",
    "axs[3].imshow(gradShapExpsTrain[i])\n",
    "axs[3].set_title('gradientSHAP')\n",
    "axs[4].imshow(deepLiftExpsTrain[i])\n",
    "axs[4].set_title('deepLift')\n",
    "axs[5].imshow(occlusionExpsTrain[i])\n",
    "axs[5].set_title('occlusion')"
   ]
  },
  {
   "cell_type": "markdown",
   "metadata": {},
   "source": [
    "Finally, we can evaluate the computed explanations for the train set (we can do it for the other sets, too):"
   ]
  },
  {
   "cell_type": "code",
   "execution_count": 22,
   "metadata": {},
   "outputs": [],
   "source": [
    "from evaluation.image import saliency_map_scores\n",
    "\n",
    "# ROC AUC, F1Score, precision, recall and cosine similarity\n",
    "metrics = ['auc', 'fscore', 'prec', 'rec', 'cs']\n",
    "\n",
    "gradShapScores = []\n",
    "intGradScores = []\n",
    "deepLiftScores = []\n",
    "occlusionScores = []\n",
    "for i in range(len(XTrain[yTrain == 1])):\n",
    "    gt = expsTrain[yTrain == 1][i]\n",
    "    gradShapScores.append(saliency_map_scores(gt, gradShapExpsTrain[i], metrics=metrics, binarizeGt=False))\n",
    "    intGradScores.append(saliency_map_scores(gt, intGradExpsTrain[i], metrics=metrics, binarizeGt=False))\n",
    "    deepLiftScores.append(saliency_map_scores(gt, deepLiftExpsTrain[i], metrics=metrics, binarizeGt=False))\n",
    "    occlusionScores.append(saliency_map_scores(gt, occlusionExpsTrain[i], metrics=metrics, binarizeGt=False))\n",
    "                          \n",
    "gradShapScores = np.mean(np.array(gradShapScores), axis=0)\n",
    "intGradScores = np.mean(np.array(intGradScores), axis=0)\n",
    "deepLiftScores = np.mean(np.array(deepLiftScores), axis=0)\n",
    "occlusionScores = np.mean(np.array(occlusionScores), axis=0)"
   ]
  },
  {
   "cell_type": "code",
   "execution_count": 23,
   "metadata": {},
   "outputs": [
    {
     "data": {
      "text/html": [
       "<div>\n",
       "<style scoped>\n",
       "    .dataframe tbody tr th:only-of-type {\n",
       "        vertical-align: middle;\n",
       "    }\n",
       "\n",
       "    .dataframe tbody tr th {\n",
       "        vertical-align: top;\n",
       "    }\n",
       "\n",
       "    .dataframe thead th {\n",
       "        text-align: right;\n",
       "    }\n",
       "</style>\n",
       "<table border=\"1\" class=\"dataframe\">\n",
       "  <thead>\n",
       "    <tr style=\"text-align: right;\">\n",
       "      <th></th>\n",
       "      <th>auc</th>\n",
       "      <th>fscore</th>\n",
       "      <th>prec</th>\n",
       "      <th>rec</th>\n",
       "      <th>cs</th>\n",
       "      <th>technique</th>\n",
       "    </tr>\n",
       "  </thead>\n",
       "  <tbody>\n",
       "    <tr>\n",
       "      <th>0</th>\n",
       "      <td>0.489231</td>\n",
       "      <td>0.117196</td>\n",
       "      <td>0.062264</td>\n",
       "      <td>0.995251</td>\n",
       "      <td>0.246058</td>\n",
       "      <td>gradSHAP</td>\n",
       "    </tr>\n",
       "    <tr>\n",
       "      <th>1</th>\n",
       "      <td>0.481442</td>\n",
       "      <td>0.117204</td>\n",
       "      <td>0.062268</td>\n",
       "      <td>0.995319</td>\n",
       "      <td>0.245174</td>\n",
       "      <td>intGrad</td>\n",
       "    </tr>\n",
       "    <tr>\n",
       "      <th>2</th>\n",
       "      <td>0.454612</td>\n",
       "      <td>0.117253</td>\n",
       "      <td>0.062294</td>\n",
       "      <td>0.995732</td>\n",
       "      <td>0.242507</td>\n",
       "      <td>deepLift</td>\n",
       "    </tr>\n",
       "    <tr>\n",
       "      <th>3</th>\n",
       "      <td>0.489906</td>\n",
       "      <td>0.117245</td>\n",
       "      <td>0.062290</td>\n",
       "      <td>0.995664</td>\n",
       "      <td>0.238931</td>\n",
       "      <td>occlusion</td>\n",
       "    </tr>\n",
       "  </tbody>\n",
       "</table>\n",
       "</div>"
      ],
      "text/plain": [
       "        auc    fscore      prec       rec        cs  technique\n",
       "0  0.489231  0.117196  0.062264  0.995251  0.246058   gradSHAP\n",
       "1  0.481442  0.117204  0.062268  0.995319  0.245174    intGrad\n",
       "2  0.454612  0.117253  0.062294  0.995732  0.242507   deepLift\n",
       "3  0.489906  0.117245  0.062290  0.995664  0.238931  occlusion"
      ]
     },
     "execution_count": 23,
     "metadata": {},
     "output_type": "execute_result"
    }
   ],
   "source": [
    "scores = pd.DataFrame(data=[gradShapScores, intGradScores, deepLiftScores, occlusionScores], \n",
    "                      columns=metrics)\n",
    "scores['technique'] = ['gradSHAP', 'intGrad', 'deepLift', 'occlusion']\n",
    "scores"
   ]
  },
  {
   "cell_type": "markdown",
   "metadata": {},
   "source": [
    "This whole pipeline has been implemented as a single function. This function generates artificial image data, splits it into train, val and test, trains the model on the data with the provided training function, generates explanations for the train, validation and test splits with the selected method and evaluates them with the desired metrics:"
   ]
  },
  {
   "cell_type": "code",
   "execution_count": 41,
   "metadata": {},
   "outputs": [
    {
     "name": "stdout",
     "output_type": "stream",
     "text": [
      "Trained model with avg. training loss of 0.0015210037394850092 and avg. training accuracy of 1.0.\n",
      "Generating explanations with integratedGradient\n"
     ]
    }
   ],
   "source": [
    "from evaluation.model import eval_torch_image\n",
    "\n",
    "import torch\n",
    "\n",
    "nSamples=1000\n",
    "metrics = ['auc', 'fscore', 'prec', 'rec', 'cs']\n",
    "model = FCNN(imageH, imageW, cellH)\n",
    "\n",
    "intGradtrainScores, intGradvalScores, intGradtestScores = eval_torch_image(model=model,\n",
    "                                                                           trainFunction=train_net,\n",
    "                                                                           nSamples=nSamples,\n",
    "                                                                           imageH=imageH,\n",
    "                                                                           imageW=imageW,\n",
    "                                                                           patternH=patternH,\n",
    "                                                                           patternW=patternW,\n",
    "                                                                           cellH=cellH,\n",
    "                                                                           cellW=cellW,\n",
    "                                                                           dataSplit=(0.7, 0.15, 0.15),\n",
    "                                                                           expMethod='integratedGradient',\n",
    "                                                                           metrics=metrics)"
   ]
  },
  {
   "cell_type": "code",
   "execution_count": 33,
   "metadata": {},
   "outputs": [
    {
     "name": "stdout",
     "output_type": "stream",
     "text": [
      "Trained model with avg. training loss of 1.1879716752942344e-06 and avg. training accuracy of 1.0.\n",
      "Generating explanations with occlusion\n"
     ]
    }
   ],
   "source": [
    "# occlusion is quite slow, takes a few minutes to compute\n",
    "occlusiontrainScores, occlusionvalScores, occlusiontestScores = eval_torch_image(model=model,\n",
    "                                                                                 trainFunction=train_net,\n",
    "                                                                                 nSamples=nSamples,\n",
    "                                                                                 imageH=imageH,\n",
    "                                                                                 imageW=imageW,\n",
    "                                                                                 patternH=patternH,\n",
    "                                                                                 patternW=patternW,\n",
    "                                                                                 cellH=cellH,\n",
    "                                                                                 cellW=cellW,\n",
    "                                                                                 dataSplit=(0.7, 0.15, 0.15),\n",
    "                                                                                 expMethod='occlusion',\n",
    "                                                                                 sliding_window_shapes=(3, cellH, cellW),\n",
    "                                                                                 metrics=metrics)"
   ]
  },
  {
   "cell_type": "code",
   "execution_count": 34,
   "metadata": {},
   "outputs": [
    {
     "name": "stdout",
     "output_type": "stream",
     "text": [
      "Trained model with avg. training loss of 9.738275976319115e-07 and avg. training accuracy of 1.0.\n",
      "Generating explanations with gradientShap\n"
     ]
    }
   ],
   "source": [
    "gradShaptrainScores, gradShapvalScores, gradShaptestScores = eval_torch_image(model=model,\n",
    "                                                                              trainFunction=train_net,\n",
    "                                                                              nSamples=nSamples,\n",
    "                                                                              imageH=imageH,\n",
    "                                                                              imageW=imageW,\n",
    "                                                                              patternH=patternH,\n",
    "                                                                              patternW=patternW,\n",
    "                                                                              cellH=cellH,\n",
    "                                                                              cellW=cellW,\n",
    "                                                                              dataSplit=(0.7, 0.15, 0.15),\n",
    "                                                                              expMethod='gradientShap',\n",
    "                                                                              metrics=metrics)"
   ]
  },
  {
   "cell_type": "code",
   "execution_count": 35,
   "metadata": {},
   "outputs": [
    {
     "name": "stdout",
     "output_type": "stream",
     "text": [
      "Trained model with avg. training loss of 3.749671328989734e-08 and avg. training accuracy of 1.0.\n",
      "Generating explanations with deepLift\n"
     ]
    },
    {
     "name": "stderr",
     "output_type": "stream",
     "text": [
      "/home/ajia/.local/lib/python3.6/site-packages/captum/_utils/gradient.py:55: UserWarning: Input Tensor 0 did not already require gradients, required_grads has been set automatically.\n",
      "  \"required_grads has been set automatically.\" % index\n",
      "/home/ajia/.local/lib/python3.6/site-packages/captum/attr/_core/deep_lift.py:325: UserWarning: Setting forward, backward hooks and attributes on non-linear\n",
      "               activations. The hooks and attributes will be removed\n",
      "            after the attribution is finished\n",
      "  after the attribution is finished\"\"\"\n"
     ]
    }
   ],
   "source": [
    "deepLifttrainScores, deepLiftvalScores, deepLifttestScores = eval_torch_image(model=model,\n",
    "                                                                              trainFunction=train_net,\n",
    "                                                                              nSamples=nSamples,\n",
    "                                                                              imageH=imageH,\n",
    "                                                                              imageW=imageW,\n",
    "                                                                              patternH=patternH,\n",
    "                                                                              patternW=patternW,\n",
    "                                                                              cellH=cellH,\n",
    "                                                                              cellW=cellW,\n",
    "                                                                              dataSplit=(0.7, 0.15, 0.15),\n",
    "                                                                              expMethod='deepLift',\n",
    "                                                                              metrics=metrics)"
   ]
  },
  {
   "cell_type": "code",
   "execution_count": 42,
   "metadata": {},
   "outputs": [
    {
     "data": {
      "text/html": [
       "<div>\n",
       "<style scoped>\n",
       "    .dataframe tbody tr th:only-of-type {\n",
       "        vertical-align: middle;\n",
       "    }\n",
       "\n",
       "    .dataframe tbody tr th {\n",
       "        vertical-align: top;\n",
       "    }\n",
       "\n",
       "    .dataframe thead th {\n",
       "        text-align: right;\n",
       "    }\n",
       "</style>\n",
       "<table border=\"1\" class=\"dataframe\">\n",
       "  <thead>\n",
       "    <tr style=\"text-align: right;\">\n",
       "      <th></th>\n",
       "      <th>auc</th>\n",
       "      <th>fscore</th>\n",
       "      <th>prec</th>\n",
       "      <th>rec</th>\n",
       "      <th>cs</th>\n",
       "      <th>techniques</th>\n",
       "    </tr>\n",
       "  </thead>\n",
       "  <tbody>\n",
       "    <tr>\n",
       "      <th>0</th>\n",
       "      <td>0.488721</td>\n",
       "      <td>0.144729</td>\n",
       "      <td>0.078024</td>\n",
       "      <td>0.997727</td>\n",
       "      <td>0.274173</td>\n",
       "      <td>intGrad</td>\n",
       "    </tr>\n",
       "    <tr>\n",
       "      <th>1</th>\n",
       "      <td>0.466912</td>\n",
       "      <td>0.144729</td>\n",
       "      <td>0.078024</td>\n",
       "      <td>0.997727</td>\n",
       "      <td>0.259132</td>\n",
       "      <td>occlusion</td>\n",
       "    </tr>\n",
       "    <tr>\n",
       "      <th>2</th>\n",
       "      <td>0.491650</td>\n",
       "      <td>0.144749</td>\n",
       "      <td>0.078034</td>\n",
       "      <td>0.997864</td>\n",
       "      <td>0.274734</td>\n",
       "      <td>gradSHAP</td>\n",
       "    </tr>\n",
       "    <tr>\n",
       "      <th>3</th>\n",
       "      <td>0.487982</td>\n",
       "      <td>0.144742</td>\n",
       "      <td>0.078031</td>\n",
       "      <td>0.997818</td>\n",
       "      <td>0.274769</td>\n",
       "      <td>deepLift</td>\n",
       "    </tr>\n",
       "  </tbody>\n",
       "</table>\n",
       "</div>"
      ],
      "text/plain": [
       "        auc    fscore      prec       rec        cs techniques\n",
       "0  0.488721  0.144729  0.078024  0.997727  0.274173    intGrad\n",
       "1  0.466912  0.144729  0.078024  0.997727  0.259132  occlusion\n",
       "2  0.491650  0.144749  0.078034  0.997864  0.274734   gradSHAP\n",
       "3  0.487982  0.144742  0.078031  0.997818  0.274769   deepLift"
      ]
     },
     "execution_count": 42,
     "metadata": {},
     "output_type": "execute_result"
    }
   ],
   "source": [
    "scores = pd.DataFrame(data=[intGradtrainScores, occlusiontrainScores, gradShaptrainScores, deepLifttrainScores],\n",
    "                     columns=metrics)\n",
    "scores['techniques'] = ['intGrad', 'occlusion', 'gradSHAP', 'deepLift']\n",
    "scores"
   ]
  },
  {
   "cell_type": "markdown",
   "metadata": {},
   "source": [
    "Note that these scores look a bit different to the ones previously shown because the images generated are not the same."
   ]
  },
  {
   "cell_type": "code",
   "execution_count": null,
   "metadata": {},
   "outputs": [],
   "source": []
  }
 ],
 "metadata": {
  "kernelspec": {
   "display_name": "taiaoExp",
   "language": "python",
   "name": "taiaoexp"
  },
  "language_info": {
   "codemirror_mode": {
    "name": "ipython",
    "version": 3
   },
   "file_extension": ".py",
   "mimetype": "text/x-python",
   "name": "python",
   "nbconvert_exporter": "python",
   "pygments_lexer": "ipython3",
   "version": "3.6.9"
  }
 },
 "nbformat": 4,
 "nbformat_minor": 4
}
