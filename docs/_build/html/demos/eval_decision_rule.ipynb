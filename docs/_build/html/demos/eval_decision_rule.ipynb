{
 "cells": [
  {
   "cell_type": "markdown",
   "id": "d27aa638-62e3-43c1-9bc2-d1d5bcd4e74a",
   "metadata": {},
   "source": [
    "# teex\n",
    "\n",
    "### Evaluation of explanation quality: decision rules\n",
    "\n",
    "In this notebook, we are going to explore how we can use **teex** to evaluate decision rule explanations"
   ]
  },
  {
   "cell_type": "code",
   "execution_count": 14,
   "id": "2826e600-33a6-46f9-b979-a758ebc79407",
   "metadata": {},
   "outputs": [],
   "source": [
    "from teex.decisionRule.data import SenecaDR\n",
    "from teex.decisionRule.eval import rule_scores\n",
    "\n",
    "# these three imports fix an issue with imports in SkopeRules\n",
    "import six\n",
    "import sys\n",
    "sys.modules['sklearn.externals.six'] = six\n",
    "\n",
    "from skrules import SkopeRules"
   ]
  },
  {
   "cell_type": "markdown",
   "id": "ffc87352",
   "metadata": {},
   "source": [
    "The first step is to gather data with available ground truth decison rule explanations. **teex** makes it simples:"
   ]
  },
  {
   "cell_type": "code",
   "execution_count": 33,
   "id": "ce4a922a",
   "metadata": {},
   "outputs": [],
   "source": [
    "dataGen = SenecaDR(nSamples=500, nFeatures=5, randomState=88)\n",
    "X, y, exps = dataGen[:]"
   ]
  },
  {
   "cell_type": "code",
   "execution_count": 34,
   "id": "bca3f4f0",
   "metadata": {},
   "outputs": [
    {
     "data": {
      "text/plain": [
       "array([[-2.02711717, -1.32958987, -0.77103092,  0.99843625, -2.27314715],\n",
       "       [-0.64076447,  1.62339205,  1.75445611, -1.00969545,  1.83765661],\n",
       "       [ 1.50354713, -1.27483644, -2.19842768, -1.05181378,  1.07449273],\n",
       "       [ 0.06917376, -0.45268848, -1.05498443,  0.00318232, -0.65430449],\n",
       "       [ 1.04850317,  2.69542922,  2.05851293, -0.06200245, -1.50837284]])"
      ]
     },
     "execution_count": 34,
     "metadata": {},
     "output_type": "execute_result"
    }
   ],
   "source": [
    "X[:5]"
   ]
  },
  {
   "cell_type": "code",
   "execution_count": 35,
   "id": "8d5ab3f8",
   "metadata": {},
   "outputs": [
    {
     "data": {
      "text/plain": [
       "array([1, 1, 0, 1, 0])"
      ]
     },
     "execution_count": 35,
     "metadata": {},
     "output_type": "execute_result"
    }
   ],
   "source": [
    "y[:5]"
   ]
  },
  {
   "cell_type": "code",
   "execution_count": 36,
   "id": "b97e56b8",
   "metadata": {
    "scrolled": true
   },
   "outputs": [
    {
     "name": "stdout",
     "output_type": "stream",
     "text": [
      "IF 'a' <= -0.648, 'e' <= 0.125, 'c' <= -0.638, -1.473 < 'd' THEN 'Class' = 1\n",
      "IF 'a' <= 0.962, 0.278 < 'e', -1.018 < 'b', -1.441 < 'c', 'd' <= 1.025 THEN 'Class' = 1\n",
      "IF 0.962 < 'a', -2.876 < 'b' <= -0.656, 'd' <= -0.766, 'c' <= -2.147, -0.739 < 'e' THEN 'Class' = 0\n",
      "IF -0.467 < 'a' <= 0.962, 'e' <= 0.125, 'c' <= -0.638, -1.473 < 'd' THEN 'Class' = 1\n",
      "IF 0.962 < 'a', -0.095 < 'b', -1.843 < 'd', -2.64 < 'e' THEN 'Class' = 0\n"
     ]
    }
   ],
   "source": [
    "for e in exps[:5]:\n",
    "    print(e)"
   ]
  },
  {
   "cell_type": "markdown",
   "id": "e63b7e52",
   "metadata": {},
   "source": [
    "The second step is training an estimator and predicting explanations. We could use any system for training and generating the explanations. We are going to skip this step, as its independent to **teex** and up to the user to decide in which way to generate the explanations. Instead, we are going to use the ground truth explanations as if they were the predicted ones."
   ]
  },
  {
   "cell_type": "markdown",
   "id": "0a220842",
   "metadata": {},
   "source": [
    "So, we compare the predicted explanations with the ground truth ones."
   ]
  },
  {
   "cell_type": "code",
   "execution_count": 39,
   "id": "77f232bf",
   "metadata": {},
   "outputs": [
    {
     "name": "stderr",
     "output_type": "stream",
     "text": [
      "/usr/local/lib/python3.8/site-packages/teex/featureImportance/eval.py:77: UserWarning: A binary ground truth contains uniform values, so one entry has been randomly flipped for the metrics to be defined.\n",
      "  warnings.warn('A binary ground truth contains uniform values, so one entry has been randomly flipped '\n",
      "/usr/local/lib/python3.8/site-packages/teex/featureImportance/eval.py:80: UserWarning: A binary prediction contains uniform values, so one entry has been randomly flipped for the metrics to be defined.\n",
      "  warnings.warn('A binary prediction contains uniform values, so one entry has been randomly flipped '\n"
     ]
    }
   ],
   "source": [
    "metrics = ['crq', 'prec', 'rec', 'fscore']\n",
    "scores = rule_scores(exps, exps, dataGen.featureNames, metrics)"
   ]
  },
  {
   "cell_type": "code",
   "execution_count": 40,
   "id": "3ab7b179",
   "metadata": {},
   "outputs": [
    {
     "name": "stdout",
     "output_type": "stream",
     "text": [
      "crq: 1.0\n",
      "prec: 1.0\n",
      "rec: 1.0\n",
      "fscore: 1.0\n"
     ]
    }
   ],
   "source": [
    "for i, metric in enumerate(metrics):\n",
    "    print(f'{metric}: {scores[i]}')"
   ]
  },
  {
   "cell_type": "markdown",
   "id": "ae67077b",
   "metadata": {},
   "source": [
    "We obtain perfect scores, as the ground truths are exactly the same as the predictions."
   ]
  },
  {
   "cell_type": "markdown",
   "id": "caf69191",
   "metadata": {},
   "source": [
    "<p float=\"left\">\n",
    "  <img src=\"https://taiao.ai/img/6825_TAIAO_logo_1000x320.jpg\" alt=\"drawing\" style=\"width:150px;\"/>\n",
    "  <img src=\"https://www.bourses-etudiants.ma/wp-content/uploads/2018/06/University-of-Waikato-logo.png\" alt=\"drawing\" style=\"width:150px;\"/>\n",
    "  <img src=\"https://www.upc.edu/comunicacio/ca/identitat/descarrega-arxius-grafics/fitxers-marca-principal/upc-positiu-p3005.png\" alt=\"drawing\" style=\"width:200px;\"/>\n",
    "</p>"
   ]
  }
 ],
 "metadata": {
  "kernelspec": {
   "display_name": "teex",
   "language": "python",
   "name": "teex"
  },
  "language_info": {
   "codemirror_mode": {
    "name": "ipython",
    "version": 3
   },
   "file_extension": ".py",
   "mimetype": "text/x-python",
   "name": "python",
   "nbconvert_exporter": "python",
   "pygments_lexer": "ipython3",
   "version": "3.8.6"
  }
 },
 "nbformat": 4,
 "nbformat_minor": 5
}
