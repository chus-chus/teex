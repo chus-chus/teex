{
 "cells": [
  {
   "cell_type": "markdown",
   "metadata": {},
   "source": [
    "# TAIAOexp\n",
    "\n",
    "### Generating synthetic image data with g.t. saliency maps: SENECA\n",
    "\n",
    "Jesús Antoñanzas, under the supervision of Dr. Alvin Jia\n",
    "\n",
    "<p float=\"left\">\n",
    "  <img src=\"https://www.bourses-etudiants.ma/wp-content/uploads/2018/06/University-of-Waikato-logo.png\" alt=\"drawing\" style=\"width:300px;\"/>\n",
    "  \n",
    "  <img src=\"https://taiao.ai/img/6825_TAIAO_logo_1000x320.jpg\" alt=\"drawing\" style=\"width:250px;\"/>\n",
    "</p>"
   ]
  },
  {
   "cell_type": "markdown",
   "metadata": {},
   "source": [
    "Let's explore the 'seneca' method for generating artificial images with available ground truth saliency maps. It was presented in [Evaluating local explanation methods on ground truth, Riccardo Guidotti, 2021](https://www.researchgate.net/publication/346916247_Evaluating_local_explanation_methods_on_ground_truth), and although the original intention of the paper was not to present an artificial data generator, it can serve our purpose."
   ]
  },
  {
   "cell_type": "code",
   "execution_count": 1,
   "metadata": {},
   "outputs": [
    {
     "name": "stdout",
     "output_type": "stream",
     "text": [
      "/home/ajia/TAIAOexp\n"
     ]
    }
   ],
   "source": [
    "%cd ../../../"
   ]
  },
  {
   "cell_type": "code",
   "execution_count": 4,
   "metadata": {},
   "outputs": [],
   "source": [
    "import matplotlib.pyplot as plt\n",
    "import numpy as np\n",
    "import pandas as pd\n",
    "import altair as alt\n",
    "\n",
    "import torch\n",
    "import torch.nn as nn\n",
    "import torch.optim as optim\n",
    "import torch.nn.functional as F\n",
    "\n",
    "from sklearn.model_selection import train_test_split\n",
    "from sklearn.metrics import accuracy_score\n",
    "\n",
    "from math import floor"
   ]
  },
  {
   "cell_type": "markdown",
   "metadata": {},
   "source": [
    "#### 1. Generating the images"
   ]
  },
  {
   "cell_type": "markdown",
   "metadata": {},
   "source": [
    "Let's generate artificial image data with the 'seneca' method. In this case, the generated images are composed of squared cells of a fixed size and randomly colored as (almost) Red, Green or Blue. A number of these images contain a randomly generated pattern such that the ones that do so are labeled as '1' and the ones that are not are labeled as '0'. If an image contains the pattern, then the ground truth explanation is a binary mask of the same dimensions where the pattern is highlighted. The user can control: \n",
    "\n",
    "- Image width and height, in pixels\n",
    "- Image cell width and height, in pixels and divisor of image width and height\n",
    "- The proportion of the image that should be filled with cells (fillPct)\n",
    "- Pattern height and width, in pixels. The number of pixels the randomly generated pattern will take (divisor of image width and height). The previous parameter 'fillPct' also specifies the number of cells filled in the pattern.\n",
    "- The percentage of images that contain the pattern 'patternProp'\n",
    "- colorDev: [0, 0.5] If 0, each cell will be completely red, green or blue. The greater (max 0.5), the more mixed will colored channels be. Adds complexity to the task of classification."
   ]
  },
  {
   "cell_type": "code",
   "execution_count": 5,
   "metadata": {},
   "outputs": [],
   "source": [
    "from TAIAOexp.saliencyMap import gen_data_sm\n",
    "\n",
    "nSamples = 100\n",
    "randomState = 8\n",
    "imageH, imageW = 32, 32\n",
    "patternH, patternW = 16, 16\n",
    "cellH, cellW = 4, 4\n",
    "patternProp = 0.5\n",
    "fillPct = 0.4\n",
    "colorDev = 0.1\n",
    "\n",
    "X, y, exps, pat = gen_data_sm(nSamples=nSamples, imageH=imageH, imageW=imageW, \n",
    "                                 patternH=patternH, patternW=patternW,\n",
    "                                 cellH=cellH, cellW=cellW, patternProp=patternProp, \n",
    "                                 fillPct=fillPct, colorDev=colorDev, randomState=randomState)"
   ]
  },
  {
   "cell_type": "markdown",
   "metadata": {},
   "source": [
    "**X** contains the generated images, **y** the labels, **exps** the ground truth explanations and **pat** the exact pattern contained by the images."
   ]
  },
  {
   "cell_type": "markdown",
   "metadata": {},
   "source": [
    "#### Exploring the images"
   ]
  },
  {
   "cell_type": "markdown",
   "metadata": {},
   "source": [
    "Some of the generated images contain the following pattern:"
   ]
  },
  {
   "cell_type": "code",
   "execution_count": 6,
   "metadata": {},
   "outputs": [
    {
     "data": {
      "text/plain": [
       "<matplotlib.image.AxesImage at 0x7fa17c391630>"
      ]
     },
     "execution_count": 6,
     "metadata": {},
     "output_type": "execute_result"
    },
    {
     "data": {
      "image/png": "[encoded data removed]",
      "text/plain": [
       "<Figure size 432x288 with 1 Axes>"
      ]
     },
     "metadata": {
      "needs_background": "light"
     },
     "output_type": "display_data"
    }
   ],
   "source": [
    "plt.imshow(pat)"
   ]
  },
  {
   "cell_type": "markdown",
   "metadata": {},
   "source": [
    "For example, the first one, which is labeled as"
   ]
  },
  {
   "cell_type": "code",
   "execution_count": 7,
   "metadata": {},
   "outputs": [
    {
     "name": "stdout",
     "output_type": "stream",
     "text": [
      "1\n"
     ]
    },
    {
     "data": {
      "text/plain": [
       "<matplotlib.image.AxesImage at 0x7fa17428d2b0>"
      ]
     },
     "execution_count": 7,
     "metadata": {},
     "output_type": "execute_result"
    },
    {
     "data": {
      "image/png": "[encoded data removed]",
      "text/plain": [
       "<Figure size 432x288 with 1 Axes>"
      ]
     },
     "metadata": {
      "needs_background": "light"
     },
     "output_type": "display_data"
    }
   ],
   "source": [
    "print(y[0])\n",
    "plt.imshow(X[0])"
   ]
  },
  {
   "cell_type": "markdown",
   "metadata": {},
   "source": [
    "contains it"
   ]
  },
  {
   "cell_type": "code",
   "execution_count": 8,
   "metadata": {},
   "outputs": [
    {
     "data": {
      "text/plain": [
       "<matplotlib.image.AxesImage at 0x7fa174274a58>"
      ]
     },
     "execution_count": 8,
     "metadata": {},
     "output_type": "execute_result"
    },
    {
     "data": {
      "image/png": "[encoded data removed]",
      "text/plain": [
       "<Figure size 432x288 with 1 Axes>"
      ]
     },
     "metadata": {
      "needs_background": "light"
     },
     "output_type": "display_data"
    }
   ],
   "source": [
    "plt.imshow(exps[0])"
   ]
  },
  {
   "cell_type": "markdown",
   "metadata": {},
   "source": [
    "for a more clear view:"
   ]
  },
  {
   "cell_type": "code",
   "execution_count": 9,
   "metadata": {},
   "outputs": [
    {
     "data": {
      "image/png": "[encoded data removed]",
      "text/plain": [
       "<Figure size 432x288 with 3 Axes>"
      ]
     },
     "metadata": {
      "needs_background": "light"
     },
     "output_type": "display_data"
    }
   ],
   "source": [
    "def plt_imgs(p, img, exp):\n",
    "    fig, axs = plt.subplots(1, 3)\n",
    "    axs[0].imshow(p)\n",
    "    axs[0].set_title('Pattern')\n",
    "    axs[1].imshow(img)\n",
    "    axs[1].set_title('Generated image')\n",
    "    axs[2].imshow(exp)\n",
    "    axs[2].set_title('Explanation')\n",
    "    \n",
    "plt_imgs(pat, X[0], exps[0])"
   ]
  },
  {
   "cell_type": "markdown",
   "metadata": {},
   "source": [
    "Not all images have the pattern in the same position:plt_imgs(pat, X[0], exps[0])"
   ]
  },
  {
   "cell_type": "code",
   "execution_count": 10,
   "metadata": {},
   "outputs": [
    {
     "data": {
      "image/png": "[encoded data removed]",
      "text/plain": [
       "<Figure size 432x288 with 3 Axes>"
      ]
     },
     "metadata": {
      "needs_background": "light"
     },
     "output_type": "display_data"
    }
   ],
   "source": [
    "plt_imgs(pat, X[6], exps[6])"
   ]
  },
  {
   "cell_type": "markdown",
   "metadata": {},
   "source": [
    "We can generate images with another pattern by changing the random state"
   ]
  },
  {
   "cell_type": "code",
   "execution_count": 11,
   "metadata": {},
   "outputs": [
    {
     "data": {
      "image/png": "[encoded data removed]",
      "text/plain": [
       "<Figure size 432x288 with 3 Axes>"
      ]
     },
     "metadata": {
      "needs_background": "light"
     },
     "output_type": "display_data"
    }
   ],
   "source": [
    "X, y, exps, pat = gen_data_sm(nSamples=100, imageH=imageH, imageW=imageW, \n",
    "                                 patternH=patternH, patternW=patternW,\n",
    "                                 cellH=cellH, cellW=cellW, patternProp=patternProp, \n",
    "                                 fillPct=fillPct, colorDev=colorDev, randomState=7)\n",
    "\n",
    "plt_imgs(pat, X[1], exps[1])"
   ]
  },
  {
   "cell_type": "markdown",
   "metadata": {},
   "source": [
    "The images that do not contain a pattern have as explanation a black mask. Note that in order for the images to contain the pattern it must not only match the shape, but its colors too. We can check that we have the desired proportion of classes in the dataset:"
   ]
  },
  {
   "cell_type": "code",
   "execution_count": 12,
   "metadata": {},
   "outputs": [
    {
     "data": {
      "text/plain": [
       "True"
      ]
     },
     "execution_count": 12,
     "metadata": {},
     "output_type": "execute_result"
    }
   ],
   "source": [
    "sum(y) / len(y) == patternProp"
   ]
  },
  {
   "cell_type": "markdown",
   "metadata": {},
   "source": [
    "We can also check how changing the parameter colorDev affects the coloring of the images"
   ]
  },
  {
   "cell_type": "code",
   "execution_count": 13,
   "metadata": {},
   "outputs": [
    {
     "data": {
      "image/png": "[encoded data removed]",
      "text/plain": [
       "<Figure size 432x288 with 3 Axes>"
      ]
     },
     "metadata": {
      "needs_background": "light"
     },
     "output_type": "display_data"
    }
   ],
   "source": [
    "X, y, exps, pat = gen_data_sm(nSamples=100, imageH=imageH, imageW=imageW, \n",
    "                                 patternH=patternH, patternW=patternW,\n",
    "                                 cellH=cellH, cellW=cellW, patternProp=patternProp, \n",
    "                                 fillPct=fillPct, colorDev=0.5, randomState=7)\n",
    "\n",
    "plt_imgs(pat, X[1], exps[1])"
   ]
  },
  {
   "cell_type": "markdown",
   "metadata": {},
   "source": [
    "Indeed, the pattern and the cells that are filled in the images are the same, but the colors are different."
   ]
  },
  {
   "cell_type": "markdown",
   "metadata": {},
   "source": [
    "#### 2. Exploring a white-box model"
   ]
  },
  {
   "cell_type": "markdown",
   "metadata": {},
   "source": [
    "The 'seneca' method used to generate the artificial data in TAIAOexp can also return an underlying white-box model. In the case of the image data, the model can recognize if the generated pattern is contained within an observation by performing a linear scan. The models implement .fit, .predict and .predict_proba methods in order for them to easily work with explainability frameworks. We can retrieve the whitebox model by setting the parameter 'returnModel' to **True** when generating the data."
   ]
  },
  {
   "cell_type": "code",
   "execution_count": 14,
   "metadata": {},
   "outputs": [],
   "source": [
    "X, y, exps, pat, model = gen_data_sm(nSamples=100, imageH=imageH, imageW=imageW, \n",
    "                                     patternH=patternH, patternW=patternW,\n",
    "                                     cellH=cellH, cellW=cellW, patternProp=patternProp, \n",
    "                                     fillPct=fillPct, colorDev=0.5, randomState=7, returnModel=True)"
   ]
  },
  {
   "cell_type": "code",
   "execution_count": 15,
   "metadata": {},
   "outputs": [
    {
     "data": {
      "text/plain": [
       "<TAIAOexp.saliencyMap.TransparentImageClassifier at 0x7fa17411af60>"
      ]
     },
     "execution_count": 15,
     "metadata": {},
     "output_type": "execute_result"
    }
   ],
   "source": [
    "model"
   ]
  },
  {
   "cell_type": "code",
   "execution_count": 16,
   "metadata": {},
   "outputs": [
    {
     "data": {
      "text/plain": [
       "[1, 1, 0, 0, 0]"
      ]
     },
     "execution_count": 16,
     "metadata": {},
     "output_type": "execute_result"
    }
   ],
   "source": [
    "model.predict(X[:5])"
   ]
  },
  {
   "cell_type": "code",
   "execution_count": 17,
   "metadata": {},
   "outputs": [
    {
     "data": {
      "text/plain": [
       "[[0.0, 1.0], [0.0, 1.0], [1.0, 0.0], [1.0, 0.0], [1.0, 0.0]]"
      ]
     },
     "execution_count": 17,
     "metadata": {},
     "output_type": "execute_result"
    }
   ],
   "source": [
    "model.predict_proba(X[:5])"
   ]
  },
  {
   "cell_type": "markdown",
   "metadata": {},
   "source": [
    "The model can also 'explain' instances dynamically:"
   ]
  },
  {
   "cell_type": "code",
   "execution_count": 18,
   "metadata": {},
   "outputs": [
    {
     "data": {
      "text/plain": [
       "Text(0.5, 1.0, 'Corresponding image')"
      ]
     },
     "execution_count": 18,
     "metadata": {},
     "output_type": "execute_result"
    },
    {
     "data": {
      "image/png": "[encoded data removed]",
      "text/plain": [
       "<Figure size 432x288 with 2 Axes>"
      ]
     },
     "metadata": {
      "needs_background": "light"
     },
     "output_type": "display_data"
    }
   ],
   "source": [
    "explanations = model.explain(X[:2])\n",
    "\n",
    "fig, axs = plt.subplots(1, 2)\n",
    "axs[1].imshow(explanations[0])\n",
    "axs[1].set_title('Generated explanation')\n",
    "axs[0].imshow(X[0])\n",
    "axs[0].set_title('Corresponding image')"
   ]
  },
  {
   "cell_type": "markdown",
   "metadata": {},
   "source": [
    "and generate explanations for the positive class images:"
   ]
  },
  {
   "cell_type": "code",
   "execution_count": 24,
   "metadata": {},
   "outputs": [
    {
     "name": "stderr",
     "output_type": "stream",
     "text": [
      "/home/ajia/.local/lib/python3.6/site-packages/captum/_utils/gradient.py:55: UserWarning: Input Tensor 0 did not already require gradients, required_grads has been set automatically.\n",
      "  \"required_grads has been set automatically.\" % index\n",
      "/home/ajia/.local/lib/python3.6/site-packages/captum/attr/_core/deep_lift.py:325: UserWarning: Setting forward, backward hooks and attributes on non-linear\n",
      "               activations. The hooks and attributes will be removed\n",
      "            after the attribution is finished\n",
      "  after the attribution is finished\"\"\"\n"
     ]
    }
   ],
   "source": [
    "from TAIAO.utils._explanation import torch_pixel_attributions\n",
    "\n",
    "# takes a few minutes to run\n",
    "gradShapExpsTrain = torch_pixel_attributions(model, XTrain[yTrain == 1], yTrain[yTrain == 1], method='gradientShap')\n",
    "intGradExpsTrain = torch_pixel_attributions(model, XTrain[yTrain == 1], yTrain[yTrain == 1], method='integratedGradient')\n",
    "deepLiftExpsTrain = torch_pixel_attributions(model, XTrain[yTrain == 1], yTrain[yTrain == 1], method='deepLift')\n",
    "occlusionExpsTrain = torch_pixel_attributions(model, XTrain[yTrain == 1], yTrain[yTrain == 1], method='occlusion', sliding_window_shapes=(3, cellH, cellW))"
   ]
  },
  {
   "cell_type": "code",
   "execution_count": 25,
   "metadata": {},
   "outputs": [
    {
     "data": {
      "text/plain": [
       "Text(0.5, 1.0, 'occlusion')"
      ]
     },
     "execution_count": 25,
     "metadata": {},
     "output_type": "execute_result"
    },
    {
     "data": {
      "image/png": "[encoded data removed]",
      "text/plain": [
       "<Figure size 1080x1080 with 6 Axes>"
      ]
     },
     "metadata": {
      "needs_background": "light"
     },
     "output_type": "display_data"
    }
   ],
   "source": [
    "i = 4\n",
    "\n",
    "fig, axs = plt.subplots(1, 6, figsize=(15,15))\n",
    "axs[0].imshow(XTrain[yTrain == 1][i].permute(1, 2, 0))\n",
    "axs[0].set_title('Image')\n",
    "axs[1].imshow(expsTrain[yTrain == 1][i])\n",
    "axs[1].set_title('g.t. explanation')\n",
    "axs[2].imshow(intGradExpsTrain[i])\n",
    "axs[2].set_title('integratedGradient')\n",
    "axs[3].imshow(gradShapExpsTrain[i])\n",
    "axs[3].set_title('gradientSHAP')\n",
    "axs[4].imshow(deepLiftExpsTrain[i])\n",
    "axs[4].set_title('deepLift')\n",
    "axs[5].imshow(occlusionExpsTrain[i])\n",
    "axs[5].set_title('occlusion')"
   ]
  },
  {
   "cell_type": "markdown",
   "metadata": {},
   "source": [
    "Finally, we can evaluate the computed explanations for the train set (we can do it for the other sets, too):"
   ]
  },
  {
   "cell_type": "code",
   "execution_count": 22,
   "metadata": {},
   "outputs": [],
   "source": [
    "from evaluation.image import saliency_map_scores\n",
    "\n",
    "# ROC AUC, F1Score, precision, recall and cosine similarity\n",
    "metrics = ['auc', 'fscore', 'prec', 'rec', 'cs']\n",
    "\n",
    "gradShapScores = []\n",
    "intGradScores = []\n",
    "deepLiftScores = []\n",
    "occlusionScores = []\n",
    "for i in range(len(XTrain[yTrain == 1])):\n",
    "    gt = expsTrain[yTrain == 1][i]\n",
    "    gradShapScores.append(saliency_map_scores(gt, gradShapExpsTrain[i], metrics=metrics, binarizeGt=False))\n",
    "    intGradScores.append(saliency_map_scores(gt, intGradExpsTrain[i], metrics=metrics, binarizeGt=False))\n",
    "    deepLiftScores.append(saliency_map_scores(gt, deepLiftExpsTrain[i], metrics=metrics, binarizeGt=False))\n",
    "    occlusionScores.append(saliency_map_scores(gt, occlusionExpsTrain[i], metrics=metrics, binarizeGt=False))\n",
    "                          \n",
    "gradShapScores = np.mean(np.array(gradShapScores), axis=0)\n",
    "intGradScores = np.mean(np.array(intGradScores), axis=0)\n",
    "deepLiftScores = np.mean(np.array(deepLiftScores), axis=0)\n",
    "occlusionScores = np.mean(np.array(occlusionScores), axis=0)"
   ]
  },
  {
   "cell_type": "code",
   "execution_count": 23,
   "metadata": {},
   "outputs": [
    {
     "data": {
      "text/html": [
       "<div>\n",
       "<style scoped>\n",
       "    .dataframe tbody tr th:only-of-type {\n",
       "        vertical-align: middle;\n",
       "    }\n",
       "\n",
       "    .dataframe tbody tr th {\n",
       "        vertical-align: top;\n",
       "    }\n",
       "\n",
       "    .dataframe thead th {\n",
       "        text-align: right;\n",
       "    }\n",
       "</style>\n",
       "<table border=\"1\" class=\"dataframe\">\n",
       "  <thead>\n",
       "    <tr style=\"text-align: right;\">\n",
       "      <th></th>\n",
       "      <th>auc</th>\n",
       "      <th>fscore</th>\n",
       "      <th>prec</th>\n",
       "      <th>rec</th>\n",
       "      <th>cs</th>\n",
       "      <th>technique</th>\n",
       "    </tr>\n",
       "  </thead>\n",
       "  <tbody>\n",
       "    <tr>\n",
       "      <th>0</th>\n",
       "      <td>0.489231</td>\n",
       "      <td>0.117196</td>\n",
       "      <td>0.062264</td>\n",
       "      <td>0.995251</td>\n",
       "      <td>0.246058</td>\n",
       "      <td>gradSHAP</td>\n",
       "    </tr>\n",
       "    <tr>\n",
       "      <th>1</th>\n",
       "      <td>0.481442</td>\n",
       "      <td>0.117204</td>\n",
       "      <td>0.062268</td>\n",
       "      <td>0.995319</td>\n",
       "      <td>0.245174</td>\n",
       "      <td>intGrad</td>\n",
       "    </tr>\n",
       "    <tr>\n",
       "      <th>2</th>\n",
       "      <td>0.454612</td>\n",
       "      <td>0.117253</td>\n",
       "      <td>0.062294</td>\n",
       "      <td>0.995732</td>\n",
       "      <td>0.242507</td>\n",
       "      <td>deepLift</td>\n",
       "    </tr>\n",
       "    <tr>\n",
       "      <th>3</th>\n",
       "      <td>0.489906</td>\n",
       "      <td>0.117245</td>\n",
       "      <td>0.062290</td>\n",
       "      <td>0.995664</td>\n",
       "      <td>0.238931</td>\n",
       "      <td>occlusion</td>\n",
       "    </tr>\n",
       "  </tbody>\n",
       "</table>\n",
       "</div>"
      ],
      "text/plain": [
       "        auc    fscore      prec       rec        cs  technique\n",
       "0  0.489231  0.117196  0.062264  0.995251  0.246058   gradSHAP\n",
       "1  0.481442  0.117204  0.062268  0.995319  0.245174    intGrad\n",
       "2  0.454612  0.117253  0.062294  0.995732  0.242507   deepLift\n",
       "3  0.489906  0.117245  0.062290  0.995664  0.238931  occlusion"
      ]
     },
     "execution_count": 23,
     "metadata": {},
     "output_type": "execute_result"
    }
   ],
   "source": [
    "scores = pd.DataFrame(data=[gradShapScores, intGradScores, deepLiftScores, occlusionScores], \n",
    "                      columns=metrics)\n",
    "scores['technique'] = ['gradSHAP', 'intGrad', 'deepLift', 'occlusion']\n",
    "scores"
   ]
  },
  {
   "cell_type": "markdown",
   "metadata": {},
   "source": [
    "This whole pipeline has been implemented as a high level function. This function generates artificial image data, splits it into train, val and test, trains the model on the data with the provided training function, generates explanations for the train, validation and test splits with the selected method and evaluates them with the desired metrics:"
   ]
  },
  {
   "cell_type": "code",
   "execution_count": 41,
   "metadata": {},
   "outputs": [
    {
     "name": "stdout",
     "output_type": "stream",
     "text": [
      "Trained model with avg. training loss of 0.0015210037394850092 and avg. training accuracy of 1.0.\n",
      "Generating explanations with integratedGradient\n"
     ]
    }
   ],
   "source": [
    "from evaluation.model import eval_torch_image\n",
    "\n",
    "import torch\n",
    "\n",
    "nSamples=1000\n",
    "metrics = ['auc', 'fscore', 'prec', 'rec', 'cs']\n",
    "model = FCNN(imageH, imageW, cellH)\n",
    "\n",
    "intGradtrainScores, intGradvalScores, intGradtestScores = eval_torch_image(model=model,\n",
    "                                                                           trainFunction=train_net,\n",
    "                                                                           nSamples=nSamples,\n",
    "                                                                           imageH=imageH,\n",
    "                                                                           imageW=imageW,\n",
    "                                                                           patternH=patternH,\n",
    "                                                                           patternW=patternW,\n",
    "                                                                           cellH=cellH,\n",
    "                                                                           cellW=cellW,\n",
    "                                                                           dataSplit=(0.7, 0.15, 0.15),\n",
    "                                                                           expMethod='integratedGradient',\n",
    "                                                                           metrics=metrics)"
   ]
  },
  {
   "cell_type": "code",
   "execution_count": 33,
   "metadata": {},
   "outputs": [
    {
     "name": "stdout",
     "output_type": "stream",
     "text": [
      "Trained model with avg. training loss of 1.1879716752942344e-06 and avg. training accuracy of 1.0.\n",
      "Generating explanations with occlusion\n"
     ]
    }
   ],
   "source": [
    "# occlusion is quite slow, takes a few minutes to compute\n",
    "occlusiontrainScores, occlusionvalScores, occlusiontestScores = eval_torch_image(model=model,\n",
    "                                                                                 trainFunction=train_net,\n",
    "                                                                                 nSamples=nSamples,\n",
    "                                                                                 imageH=imageH,\n",
    "                                                                                 imageW=imageW,\n",
    "                                                                                 patternH=patternH,\n",
    "                                                                                 patternW=patternW,\n",
    "                                                                                 cellH=cellH,\n",
    "                                                                                 cellW=cellW,\n",
    "                                                                                 dataSplit=(0.7, 0.15, 0.15),\n",
    "                                                                                 expMethod='occlusion',\n",
    "                                                                                 sliding_window_shapes=(3, cellH, cellW),\n",
    "                                                                                 metrics=metrics)"
   ]
  },
  {
   "cell_type": "code",
   "execution_count": 34,
   "metadata": {},
   "outputs": [
    {
     "name": "stdout",
     "output_type": "stream",
     "text": [
      "Trained model with avg. training loss of 9.738275976319115e-07 and avg. training accuracy of 1.0.\n",
      "Generating explanations with gradientShap\n"
     ]
    }
   ],
   "source": [
    "gradShaptrainScores, gradShapvalScores, gradShaptestScores = eval_torch_image(model=model,\n",
    "                                                                              trainFunction=train_net,\n",
    "                                                                              nSamples=nSamples,\n",
    "                                                                              imageH=imageH,\n",
    "                                                                              imageW=imageW,\n",
    "                                                                              patternH=patternH,\n",
    "                                                                              patternW=patternW,\n",
    "                                                                              cellH=cellH,\n",
    "                                                                              cellW=cellW,\n",
    "                                                                              dataSplit=(0.7, 0.15, 0.15),\n",
    "                                                                              expMethod='gradientShap',\n",
    "                                                                              metrics=metrics)"
   ]
  },
  {
   "cell_type": "code",
   "execution_count": 35,
   "metadata": {},
   "outputs": [
    {
     "name": "stdout",
     "output_type": "stream",
     "text": [
      "Trained model with avg. training loss of 3.749671328989734e-08 and avg. training accuracy of 1.0.\n",
      "Generating explanations with deepLift\n"
     ]
    },
    {
     "name": "stderr",
     "output_type": "stream",
     "text": [
      "/home/ajia/.local/lib/python3.6/site-packages/captum/_utils/gradient.py:55: UserWarning: Input Tensor 0 did not already require gradients, required_grads has been set automatically.\n",
      "  \"required_grads has been set automatically.\" % index\n",
      "/home/ajia/.local/lib/python3.6/site-packages/captum/attr/_core/deep_lift.py:325: UserWarning: Setting forward, backward hooks and attributes on non-linear\n",
      "               activations. The hooks and attributes will be removed\n",
      "            after the attribution is finished\n",
      "  after the attribution is finished\"\"\"\n"
     ]
    }
   ],
   "source": [
    "deepLifttrainScores, deepLiftvalScores, deepLifttestScores = eval_torch_image(model=model,\n",
    "                                                                              trainFunction=train_net,\n",
    "                                                                              nSamples=nSamples,\n",
    "                                                                              imageH=imageH,\n",
    "                                                                              imageW=imageW,\n",
    "                                                                              patternH=patternH,\n",
    "                                                                              patternW=patternW,\n",
    "                                                                              cellH=cellH,\n",
    "                                                                              cellW=cellW,\n",
    "                                                                              dataSplit=(0.7, 0.15, 0.15),\n",
    "                                                                              expMethod='deepLift',\n",
    "                                                                              metrics=metrics)"
   ]
  },
  {
   "cell_type": "code",
   "execution_count": 42,
   "metadata": {},
   "outputs": [
    {
     "data": {
      "text/html": [
       "<div>\n",
       "<style scoped>\n",
       "    .dataframe tbody tr th:only-of-type {\n",
       "        vertical-align: middle;\n",
       "    }\n",
       "\n",
       "    .dataframe tbody tr th {\n",
       "        vertical-align: top;\n",
       "    }\n",
       "\n",
       "    .dataframe thead th {\n",
       "        text-align: right;\n",
       "    }\n",
       "</style>\n",
       "<table border=\"1\" class=\"dataframe\">\n",
       "  <thead>\n",
       "    <tr style=\"text-align: right;\">\n",
       "      <th></th>\n",
       "      <th>auc</th>\n",
       "      <th>fscore</th>\n",
       "      <th>prec</th>\n",
       "      <th>rec</th>\n",
       "      <th>cs</th>\n",
       "      <th>techniques</th>\n",
       "    </tr>\n",
       "  </thead>\n",
       "  <tbody>\n",
       "    <tr>\n",
       "      <th>0</th>\n",
       "      <td>0.488721</td>\n",
       "      <td>0.144729</td>\n",
       "      <td>0.078024</td>\n",
       "      <td>0.997727</td>\n",
       "      <td>0.274173</td>\n",
       "      <td>intGrad</td>\n",
       "    </tr>\n",
       "    <tr>\n",
       "      <th>1</th>\n",
       "      <td>0.466912</td>\n",
       "      <td>0.144729</td>\n",
       "      <td>0.078024</td>\n",
       "      <td>0.997727</td>\n",
       "      <td>0.259132</td>\n",
       "      <td>occlusion</td>\n",
       "    </tr>\n",
       "    <tr>\n",
       "      <th>2</th>\n",
       "      <td>0.491650</td>\n",
       "      <td>0.144749</td>\n",
       "      <td>0.078034</td>\n",
       "      <td>0.997864</td>\n",
       "      <td>0.274734</td>\n",
       "      <td>gradSHAP</td>\n",
       "    </tr>\n",
       "    <tr>\n",
       "      <th>3</th>\n",
       "      <td>0.487982</td>\n",
       "      <td>0.144742</td>\n",
       "      <td>0.078031</td>\n",
       "      <td>0.997818</td>\n",
       "      <td>0.274769</td>\n",
       "      <td>deepLift</td>\n",
       "    </tr>\n",
       "  </tbody>\n",
       "</table>\n",
       "</div>"
      ],
      "text/plain": [
       "        auc    fscore      prec       rec        cs techniques\n",
       "0  0.488721  0.144729  0.078024  0.997727  0.274173    intGrad\n",
       "1  0.466912  0.144729  0.078024  0.997727  0.259132  occlusion\n",
       "2  0.491650  0.144749  0.078034  0.997864  0.274734   gradSHAP\n",
       "3  0.487982  0.144742  0.078031  0.997818  0.274769   deepLift"
      ]
     },
     "execution_count": 42,
     "metadata": {},
     "output_type": "execute_result"
    }
   ],
   "source": [
    "scores = pd.DataFrame(data=[intGradtrainScores, occlusiontrainScores, gradShaptrainScores, deepLifttrainScores],\n",
    "                     columns=metrics)\n",
    "scores['techniques'] = ['intGrad', 'occlusion', 'gradSHAP', 'deepLift']\n",
    "scores"
   ]
  },
  {
   "cell_type": "markdown",
   "metadata": {},
   "source": [
    "Note that these scores look a bit different to the ones previously shown because the images generated are not the same."
   ]
  },
  {
   "cell_type": "code",
   "execution_count": null,
   "metadata": {},
   "outputs": [],
   "source": []
  }
 ],
 "metadata": {
  "kernelspec": {
   "display_name": "taiaoExp",
   "language": "python",
   "name": "taiaoexp"
  },
  "language_info": {
   "codemirror_mode": {
    "name": "ipython",
    "version": 3
   },
   "file_extension": ".py",
   "mimetype": "text/x-python",
   "name": "python",
   "nbconvert_exporter": "python",
   "pygments_lexer": "ipython3",
   "version": "3.6.9"
  }
 },
 "nbformat": 4,
 "nbformat_minor": 4
}
