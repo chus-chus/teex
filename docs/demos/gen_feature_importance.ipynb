{
 "cells": [
  {
   "cell_type": "markdown",
   "id": "ab2a6d80-6e23-412c-bcc6-c1f56cef9fe6",
   "metadata": {},
   "source": [
    "# teex\n",
    "\n",
    "### Generating data with available g.t. feature importance explanations"
   ]
  },
  {
   "cell_type": "code",
   "execution_count": null,
   "id": "b3c97207-7ffd-4c5b-8f40-dc08a85539e6",
   "metadata": {},
   "outputs": [],
   "source": []
  },
  {
   "cell_type": "markdown",
   "id": "18a4a59b-f223-496d-8862-99e1db0321be",
   "metadata": {},
   "source": [
    "<p float=\"left\">\n",
    "  <img src=\"https://taiao.ai/img/6825_TAIAO_logo_1000x320.jpg\" alt=\"drawing\" style=\"width:150px;\"/>\n",
    "  <img src=\"https://www.bourses-etudiants.ma/wp-content/uploads/2018/06/University-of-Waikato-logo.png\" alt=\"drawing\" style=\"width:150px;\"/>\n",
    "  <img src=\"https://www.upc.edu/comunicacio/ca/identitat/descarrega-arxius-grafics/fitxers-marca-principal/upc-positiu-p3005.png\" alt=\"drawing\" style=\"width:200px;\"/>\n",
    "</p>"
   ]
  }
 ],
 "metadata": {
  "kernelspec": {
   "display_name": "Python 3 (ipykernel)",
   "language": "python",
   "name": "python3"
  },
  "language_info": {
   "codemirror_mode": {
    "name": "ipython",
    "version": 3
   },
   "file_extension": ".py",
   "mimetype": "text/x-python",
   "name": "python",
   "nbconvert_exporter": "python",
   "pygments_lexer": "ipython3",
   "version": "3.8.6"
  }
 },
 "nbformat": 4,
 "nbformat_minor": 5
}
