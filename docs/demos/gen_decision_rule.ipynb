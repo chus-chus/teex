{
 "cells": [
  {
   "cell_type": "markdown",
   "id": "4a7018d7-4241-4c9e-b53d-89ee7013e239",
   "metadata": {},
   "source": [
    "# teex\n",
    "\n",
    "### Generating data with available g.t. decision rule explanations"
   ]
  },
  {
   "cell_type": "code",
   "execution_count": null,
   "id": "9fc512cf-cee3-4cba-927a-38dec76bc84d",
   "metadata": {},
   "outputs": [],
   "source": []
  },
  {
   "cell_type": "markdown",
   "id": "e409f221-39f4-4316-8173-fac4f17af551",
   "metadata": {},
   "source": [
    "<p float=\"left\">\n",
    "  <img src=\"https://taiao.ai/img/6825_TAIAO_logo_1000x320.jpg\" alt=\"drawing\" style=\"width:150px;\"/>\n",
    "  <img src=\"https://www.bourses-etudiants.ma/wp-content/uploads/2018/06/University-of-Waikato-logo.png\" alt=\"drawing\" style=\"width:150px;\"/>\n",
    "  <img src=\"https://www.upc.edu/comunicacio/ca/identitat/descarrega-arxius-grafics/fitxers-marca-principal/upc-positiu-p3005.png\" alt=\"drawing\" style=\"width:200px;\"/>\n",
    "</p>"
   ]
  }
 ],
 "metadata": {
  "kernelspec": {
   "display_name": "teex",
   "language": "python",
   "name": "teex"
  },
  "language_info": {
   "codemirror_mode": {
    "name": "ipython",
    "version": 3
   },
   "file_extension": ".py",
   "mimetype": "text/x-python",
   "name": "python",
   "nbconvert_exporter": "python",
   "pygments_lexer": "ipython3",
   "version": "3.8.6"
  }
 },
 "nbformat": 4,
 "nbformat_minor": 5
}
