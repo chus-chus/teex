{
 "cells": [
  {
   "cell_type": "markdown",
   "id": "d27aa638-62e3-43c1-9bc2-d1d5bcd4e74a",
   "metadata": {},
   "source": [
    "# teex\n",
    "\n",
    "### Evaluation of explanation quality: decision rules\n",
    "\n",
    "In this notebook, we are going to explore how we can use **teex** to evaluate decision rule explanations"
   ]
  },
  {
   "cell_type": "code",
   "execution_count": null,
   "id": "2826e600-33a6-46f9-b979-a758ebc79407",
   "metadata": {},
   "outputs": [],
   "source": []
  }
 ],
 "metadata": {
  "kernelspec": {
   "display_name": "teex",
   "language": "python",
   "name": "teex"
  },
  "language_info": {
   "codemirror_mode": {
    "name": "ipython",
    "version": 3
   },
   "file_extension": ".py",
   "mimetype": "text/x-python",
   "name": "python",
   "nbconvert_exporter": "python",
   "pygments_lexer": "ipython3",
   "version": "3.8.6"
  }
 },
 "nbformat": 4,
 "nbformat_minor": 5
}
