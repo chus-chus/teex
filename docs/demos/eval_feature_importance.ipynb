{
 "cells": [
  {
   "cell_type": "markdown",
   "id": "c476e00d-4aa7-4a2e-a2b3-390e603c841c",
   "metadata": {},
   "source": [
    "# teex\n",
    "\n",
    "### Evaluation of explanation quality: feature importance vectors\n",
    "\n",
    "In this notebook, we are going to explore how we can use **teex** to evaluate feature importance explanations"
   ]
  },
  {
   "cell_type": "code",
   "execution_count": 3,
   "id": "7fa8b318-5abd-4e6c-a7e8-e2c746a6ae61",
   "metadata": {},
   "outputs": [],
   "source": [
    "from teex.featureImportance.data import SenecaFI, lime_to_feature_importance, scale_fi_bounds\n",
    "from teex.featureImportance.eval import feature_importance_scores\n",
    "\n",
    "from lime.lime_tabular import LimeTabularExplainer\n",
    "\n",
    "from sklearn.ensemble import RandomForestClassifier\n",
    "from sklearn.metrics import fbeta_score"
   ]
  },
  {
   "cell_type": "markdown",
   "id": "7b12674c-0136-473b-aeb9-89ff362c0ef3",
   "metadata": {},
   "source": [
    "We are going to \n",
    "\n",
    "1. Generate synthetic data with feature importance explanations\n",
    "2. Train a black box model on the data\n",
    "3. Generate LIME explanations of the data\n",
    "4. Evaluate the LIME explanations agains the ground truth"
   ]
  },
  {
   "cell_type": "markdown",
   "id": "1a7c7740-44a4-4523-8372-939b416e6982",
   "metadata": {},
   "source": [
    "1. Generating the data"
   ]
  },
  {
   "cell_type": "code",
   "execution_count": 4,
   "id": "e0401a0a-fbad-4dce-8b43-03ab96bd5cf5",
   "metadata": {},
   "outputs": [],
   "source": [
    "dataGen = SenecaFI(nSamples=1000, nFeatures=4, randomState=0)\n",
    "\n",
    "X, y, exps = dataGen[:]"
   ]
  },
  {
   "cell_type": "code",
   "execution_count": 5,
   "id": "e197e9a6-d527-414c-b2b9-040e124ec704",
   "metadata": {},
   "outputs": [
    {
     "data": {
      "text/plain": [
       "array([-0.6814,  0.9974,  0.2436,  0.9975], dtype=float32)"
      ]
     },
     "execution_count": 5,
     "metadata": {},
     "output_type": "execute_result"
    }
   ],
   "source": [
    "exps[0]"
   ]
  },
  {
   "cell_type": "markdown",
   "id": "e7d69596-7c1d-4cf9-ad69-d64425df5883",
   "metadata": {},
   "source": [
    "2. Training a black box model on the data"
   ]
  },
  {
   "cell_type": "code",
   "execution_count": 16,
   "id": "b7ea6e55-8d9f-48b5-8df9-cdd928e55e16",
   "metadata": {},
   "outputs": [],
   "source": [
    "# split data \n",
    "Xtr, Xte = X[:600], X[600:]\n",
    "ytr, yte = y[:600], y[600:]"
   ]
  },
  {
   "cell_type": "code",
   "execution_count": 17,
   "id": "3ee575fe-faa5-4825-b0d9-b94c1ecb969c",
   "metadata": {},
   "outputs": [
    {
     "data": {
      "text/plain": [
       "RandomForestClassifier()"
      ]
     },
     "execution_count": 17,
     "metadata": {},
     "output_type": "execute_result"
    }
   ],
   "source": [
    "\n",
    "\n",
    "model = RandomForestClassifier()\n",
    "model.fit(Xtr, ytr)"
   ]
  },
  {
   "cell_type": "code",
   "execution_count": 20,
   "id": "55883ecd-f722-4f6a-be1a-c41efa03411c",
   "metadata": {},
   "outputs": [
    {
     "name": "stdout",
     "output_type": "stream",
     "text": [
      "Train F1:  1.0\n",
      "Test F1:  0.941358024691358\n"
     ]
    }
   ],
   "source": [
    "# F1 Score\n",
    "print('Train F1: ', fbeta_score(model.predict(Xtr), ytr, beta=1))\n",
    "print('Test F1: ', fbeta_score(model.predict(Xte), yte, beta=1))"
   ]
  },
  {
   "cell_type": "markdown",
   "id": "117d2dc0-e0d3-46a8-a2ac-1f07f6e1564b",
   "metadata": {},
   "source": [
    "The classifier fits the data quite nicely."
   ]
  },
  {
   "cell_type": "markdown",
   "id": "36006f22-80b3-464f-824d-026ced15fdab",
   "metadata": {},
   "source": [
    "3. Generating LIME explanations"
   ]
  },
  {
   "cell_type": "markdown",
   "id": "2758b6ff-5c90-49fc-9969-2f498f9ad3de",
   "metadata": {},
   "source": [
    "We first instance the explainer"
   ]
  },
  {
   "cell_type": "code",
   "execution_count": 41,
   "id": "72b00845-8a7a-4333-8a6d-74f6afc6e1aa",
   "metadata": {},
   "outputs": [],
   "source": [
    "explainer = LimeTabularExplainer(Xtr, feature_names=dataGen.featureNames, mode='classification')\n",
    "\n",
    "# sample explanation\n",
    "explainer.explain_instance(Xtr[0], model.predict_proba, mode='classification').show_in_notebook()"
   ]
  },
  {
   "cell_type": "markdown",
   "id": "146eaa33-43da-47a0-ba67-0a2f6c20c2a4",
   "metadata": {},
   "source": [
    "and generate the explanations. Unfortunately, with LIME we have to generate explanations 1 by 1. We use a function for transforming LIME explanations into feature importance vectors. This function does not transform the data, so we also import the feature importance scaler utility function, which will scale each feature to the (-1, 1) or (0, 1) range."
   ]
  },
  {
   "cell_type": "code",
   "execution_count": 26,
   "id": "79bd72b7-d18c-4926-9191-575914c43d99",
   "metadata": {},
   "outputs": [],
   "source": [
    "limeExps = []\n",
    "\n",
    "for testObs in Xte:\n",
    "    exp = explainer.explain_instance(testObs, model.predict_proba, mode='classification')\n",
    "    limeExps.append(lime_to_feature_importance(exp, nFeatures=4))\n",
    "    \n",
    "limeExps = np.array(limeExps)"
   ]
  },
  {
   "cell_type": "code",
   "execution_count": null,
   "id": "5f44ce47-080b-47fd-a465-9b40911556ed",
   "metadata": {},
   "outputs": [],
   "source": [
    "limeExps[:5]"
   ]
  },
  {
   "cell_type": "markdown",
   "id": "6d5b99de-2aa0-4a66-bf1e-293e5bbd9881",
   "metadata": {},
   "source": [
    "4. Evaluating LIME explanations"
   ]
  },
  {
   "cell_type": "code",
   "execution_count": null,
   "id": "4fd4935f-aaff-410a-ac7e-38f8455604ae",
   "metadata": {},
   "outputs": [],
   "source": []
  },
  {
   "cell_type": "markdown",
   "id": "47e9b634-fd99-4391-96b3-c0c094786f12",
   "metadata": {},
   "source": [
    "<p float=\"left\">\n",
    "  <img src=\"https://taiao.ai/img/6825_TAIAO_logo_1000x320.jpg\" alt=\"drawing\" style=\"width:150px;\"/>\n",
    "  <img src=\"https://www.bourses-etudiants.ma/wp-content/uploads/2018/06/University-of-Waikato-logo.png\" alt=\"drawing\" style=\"width:150px;\"/>\n",
    "  <img src=\"https://www.upc.edu/comunicacio/ca/identitat/descarrega-arxius-grafics/fitxers-marca-principal/upc-positiu-p3005.png\" alt=\"drawing\" style=\"width:200px;\"/>\n",
    "</p>"
   ]
  }
 ],
 "metadata": {
  "kernelspec": {
   "display_name": "teex",
   "language": "python",
   "name": "teex"
  },
  "language_info": {
   "codemirror_mode": {
    "name": "ipython",
    "version": 3
   },
   "file_extension": ".py",
   "mimetype": "text/x-python",
   "name": "python",
   "nbconvert_exporter": "python",
   "pygments_lexer": "ipython3",
   "version": "3.8.6"
  }
 },
 "nbformat": 4,
 "nbformat_minor": 5
}
