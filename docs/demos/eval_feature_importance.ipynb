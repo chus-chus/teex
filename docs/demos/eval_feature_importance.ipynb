{
 "cells": [
  {
   "cell_type": "markdown",
   "id": "c476e00d-4aa7-4a2e-a2b3-390e603c841c",
   "metadata": {},
   "source": [
    "# teex\n",
    "\n",
    "### Evaluation of explanation quality: feature importance vectors\n",
    "\n",
    "In this notebook, we are going to explore how we can use **teex** to evaluate feature importance explanations"
   ]
  },
  {
   "cell_type": "code",
   "execution_count": null,
   "id": "7fa8b318-5abd-4e6c-a7e8-e2c746a6ae61",
   "metadata": {},
   "outputs": [],
   "source": []
  }
 ],
 "metadata": {
  "kernelspec": {
   "display_name": "Python 3 (ipykernel)",
   "language": "python",
   "name": "python3"
  },
  "language_info": {
   "codemirror_mode": {
    "name": "ipython",
    "version": 3
   },
   "file_extension": ".py",
   "mimetype": "text/x-python",
   "name": "python",
   "nbconvert_exporter": "python",
   "pygments_lexer": "ipython3",
   "version": "3.8.6"
  }
 },
 "nbformat": 4,
 "nbformat_minor": 5
}
