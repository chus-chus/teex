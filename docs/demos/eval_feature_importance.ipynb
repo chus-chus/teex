{
 "cells": [
  {
   "cell_type": "markdown",
   "id": "c476e00d-4aa7-4a2e-a2b3-390e603c841c",
   "metadata": {},
   "source": [
    "# teex\n",
    "\n",
    "### Evaluation of explanation quality: feature importance vectors\n",
    "\n",
    "In this notebook, we are going to explore how we can use **teex** to evaluate feature importance explanations"
   ]
  },
  {
   "cell_type": "code",
   "execution_count": 2,
   "id": "7fa8b318-5abd-4e6c-a7e8-e2c746a6ae61",
   "metadata": {},
   "outputs": [],
   "source": [
    "from teex.featureImportance.data import SenecaFI\n",
    "from teex.featureImportance.eval import feature_importance_scores"
   ]
  },
  {
   "cell_type": "markdown",
   "id": "7b12674c-0136-473b-aeb9-89ff362c0ef3",
   "metadata": {},
   "source": [
    "We are going to \n",
    "\n",
    "1. Generate synthetic data with feature importance explanations\n",
    "2. Train a black box model on the data\n",
    "3. Generate LIME explanations of the data\n",
    "4. Evaluate the LIME explanations agains the ground truth"
   ]
  },
  {
   "cell_type": "markdown",
   "id": "1a7c7740-44a4-4523-8372-939b416e6982",
   "metadata": {},
   "source": [
    "1. Generating the data"
   ]
  },
  {
   "cell_type": "code",
   "execution_count": null,
   "id": "e0401a0a-fbad-4dce-8b43-03ab96bd5cf5",
   "metadata": {},
   "outputs": [],
   "source": [
    "dataGen = SenecaFI(nSamples=1000, nFeatures=4)\n",
    "\n",
    "X, y, exps = dataGen[:]"
   ]
  },
  {
   "cell_type": "markdown",
   "id": "47e9b634-fd99-4391-96b3-c0c094786f12",
   "metadata": {},
   "source": [
    "<p float=\"left\">\n",
    "  <img src=\"https://taiao.ai/img/6825_TAIAO_logo_1000x320.jpg\" alt=\"drawing\" style=\"width:150px;\"/>\n",
    "  <img src=\"https://www.bourses-etudiants.ma/wp-content/uploads/2018/06/University-of-Waikato-logo.png\" alt=\"drawing\" style=\"width:150px;\"/>\n",
    "  <img src=\"https://www.upc.edu/comunicacio/ca/identitat/descarrega-arxius-grafics/fitxers-marca-principal/upc-positiu-p3005.png\" alt=\"drawing\" style=\"width:200px;\"/>\n",
    "</p>"
   ]
  }
 ],
 "metadata": {
  "kernelspec": {
   "display_name": "teex",
   "language": "python",
   "name": "teex"
  },
  "language_info": {
   "codemirror_mode": {
    "name": "ipython",
    "version": 3
   },
   "file_extension": ".py",
   "mimetype": "text/x-python",
   "name": "python",
   "nbconvert_exporter": "python",
   "pygments_lexer": "ipython3",
   "version": "3.8.6"
  }
 },
 "nbformat": 4,
 "nbformat_minor": 5
}
