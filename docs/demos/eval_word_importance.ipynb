{
 "cells": [
  {
   "cell_type": "markdown",
   "id": "9c354bc1-266d-414d-821c-9b4644a0fcaa",
   "metadata": {},
   "source": [
    "# teex\n",
    "\n",
    "### Evaluation of explanation quality: word importance vectors\n",
    "\n",
    "In this notebook, we are going to explore how we can use **teex** to evaluate word importance explanations"
   ]
  },
  {
   "cell_type": "code",
   "execution_count": 12,
   "id": "f2ae941b-125a-4bce-8b95-3616ce97902d",
   "metadata": {},
   "outputs": [],
   "source": [
    "from teex.wordImportance.data import Newsgroup\n",
    "from teex.wordImportance.eval import word_importance_scores"
   ]
  },
  {
   "cell_type": "markdown",
   "id": "79225fdf",
   "metadata": {},
   "source": [
    "The first step is to gather data with available word importance explanations. **teex** makes it simples:"
   ]
  },
  {
   "cell_type": "code",
   "execution_count": 13,
   "id": "0da45d9f",
   "metadata": {},
   "outputs": [],
   "source": [
    "dataGen = Newsgroup()\n",
    "X, y, exps = dataGen[:]"
   ]
  },
  {
   "cell_type": "code",
   "execution_count": 14,
   "id": "bd7c7bf1",
   "metadata": {},
   "outputs": [
    {
     "data": {
      "text/plain": [
       "b'From: aj2a@galen.med.Virginia.EDU (Amir Anthony Jazaeri)\\nSubject: Re: Heat Shock Proteins\\nOrganization: University of Virginia\\nLines: 8\\n\\nby the way ms. olmstead dna is not degraded in the stomach nor\\nunder pH of 2.  its degraded in the duodenum under approx.\\nneutral pH by DNAase enzymes secreted by the pancreas.  my\\npoint:  check your facts before yelling at other people for not\\ndoing so.  just a friendly suggestion.\\n\\n\\naaj 4/26/93\\n'"
      ]
     },
     "execution_count": 14,
     "metadata": {},
     "output_type": "execute_result"
    }
   ],
   "source": [
    "X[1]"
   ]
  },
  {
   "cell_type": "code",
   "execution_count": 15,
   "id": "393f81e4",
   "metadata": {},
   "outputs": [
    {
     "name": "stdout",
     "output_type": "stream",
     "text": [
      "1 medicine\n"
     ]
    }
   ],
   "source": [
    "print(y[1], dataGen.classMap[y[1]])"
   ]
  },
  {
   "cell_type": "code",
   "execution_count": 16,
   "id": "20d81f11",
   "metadata": {},
   "outputs": [
    {
     "data": {
      "text/plain": [
       "{'shock': 0.5,\n",
       " 'heat': 0.5,\n",
       " 'proteins': 0.5,\n",
       " 'dna': 0.5,\n",
       " 'stomach': 0.5,\n",
       " 'duodenum': 0.5,\n",
       " 'dnaase': 0.5,\n",
       " 'enzymes': 0.5,\n",
       " 'pancreas': 0.5}"
      ]
     },
     "execution_count": 16,
     "metadata": {},
     "output_type": "execute_result"
    }
   ],
   "source": [
    "exps[1]"
   ]
  },
  {
   "cell_type": "markdown",
   "id": "e63b7e52",
   "metadata": {},
   "source": [
    "The second step is training an estimator and predicting explanations. We could use any system for training and generating the explanations. We are going to skip this step, as its independent to **teex** and up to the user to decide in which way to generate the explanations. Instead, we are going to use the ground truth explanations as if they were the predicted ones."
   ]
  },
  {
   "cell_type": "markdown",
   "id": "0a220842",
   "metadata": {},
   "source": [
    "So, we compare the predicted explanations with the ground truth ones."
   ]
  },
  {
   "cell_type": "code",
   "execution_count": 19,
   "id": "43d55ecb",
   "metadata": {},
   "outputs": [
    {
     "name": "stderr",
     "output_type": "stream",
     "text": [
      "/usr/local/lib/python3.8/site-packages/sklearn/metrics/_classification.py:1248: UndefinedMetricWarning: Precision is ill-defined and being set to 0.0 due to no predicted samples. Use `zero_division` parameter to control this behavior.\n",
      "  _warn_prf(average, modifier, msg_start, len(result))\n",
      "/usr/local/lib/python3.8/site-packages/sklearn/metrics/_classification.py:1248: UndefinedMetricWarning: Recall is ill-defined and being set to 0.0 due to no true samples. Use `zero_division` parameter to control this behavior.\n",
      "  _warn_prf(average, modifier, msg_start, len(result))\n",
      "/usr/local/lib/python3.8/site-packages/sklearn/metrics/_classification.py:1495: UndefinedMetricWarning: F-score is ill-defined and being set to 0.0 due to no true nor predicted samples. Use `zero_division` parameter to control this behavior.\n",
      "  _warn_prf(\n",
      "/usr/local/lib/python3.8/site-packages/sklearn/metrics/_classification.py:1248: UndefinedMetricWarning: Precision is ill-defined and being set to 0.0 due to no predicted samples. Use `zero_division` parameter to control this behavior.\n",
      "  _warn_prf(average, modifier, msg_start, len(result))\n",
      "/usr/local/lib/python3.8/site-packages/sklearn/metrics/_classification.py:1248: UndefinedMetricWarning: Recall is ill-defined and being set to 0.0 due to no true samples. Use `zero_division` parameter to control this behavior.\n",
      "  _warn_prf(average, modifier, msg_start, len(result))\n",
      "/usr/local/lib/python3.8/site-packages/sklearn/metrics/_classification.py:1495: UndefinedMetricWarning: F-score is ill-defined and being set to 0.0 due to no true nor predicted samples. Use `zero_division` parameter to control this behavior.\n",
      "  _warn_prf(\n",
      "/usr/local/lib/python3.8/site-packages/sklearn/metrics/_classification.py:1248: UndefinedMetricWarning: Precision is ill-defined and being set to 0.0 due to no predicted samples. Use `zero_division` parameter to control this behavior.\n",
      "  _warn_prf(average, modifier, msg_start, len(result))\n",
      "/usr/local/lib/python3.8/site-packages/sklearn/metrics/_classification.py:1248: UndefinedMetricWarning: Recall is ill-defined and being set to 0.0 due to no true samples. Use `zero_division` parameter to control this behavior.\n",
      "  _warn_prf(average, modifier, msg_start, len(result))\n",
      "/usr/local/lib/python3.8/site-packages/sklearn/metrics/_classification.py:1495: UndefinedMetricWarning: F-score is ill-defined and being set to 0.0 due to no true nor predicted samples. Use `zero_division` parameter to control this behavior.\n",
      "  _warn_prf(\n"
     ]
    }
   ],
   "source": [
    "metrics = ['prec', 'rec', 'fscore']\n",
    "scores = word_importance_scores(exps, exps, metrics=metrics)"
   ]
  },
  {
   "cell_type": "code",
   "execution_count": 20,
   "id": "3ab7b179",
   "metadata": {},
   "outputs": [
    {
     "name": "stdout",
     "output_type": "stream",
     "text": [
      "prec: 0.9839572310447693\n",
      "rec: 0.9839572310447693\n",
      "fscore: 0.9839572310447693\n"
     ]
    }
   ],
   "source": [
    "for i, metric in enumerate(metrics):\n",
    "    print(f'{metric}: {scores[i]}')"
   ]
  },
  {
   "cell_type": "markdown",
   "id": "ae67077b",
   "metadata": {},
   "source": [
    "We obtain quasi perfect scores, as the ground truths are exactly the same as the predictions. The fact that they are not 1 is due to instances when only 1 feature is available and thus, metrics are not wel"
   ]
  },
  {
   "cell_type": "markdown",
   "id": "caf69191",
   "metadata": {},
   "source": [
    "<p float=\"left\">\n",
    "  <img src=\"https://taiao.ai/img/6825_TAIAO_logo_1000x320.jpg\" alt=\"drawing\" style=\"width:150px;\"/>\n",
    "  <img src=\"https://www.bourses-etudiants.ma/wp-content/uploads/2018/06/University-of-Waikato-logo.png\" alt=\"drawing\" style=\"width:150px;\"/>\n",
    "  <img src=\"https://www.upc.edu/comunicacio/ca/identitat/descarrega-arxius-grafics/fitxers-marca-principal/upc-positiu-p3005.png\" alt=\"drawing\" style=\"width:200px;\"/>\n",
    "</p>"
   ]
  }
 ],
 "metadata": {
  "kernelspec": {
   "display_name": "Python 3.8.9 ('venv': venv)",
   "language": "python",
   "name": "python3"
  },
  "language_info": {
   "codemirror_mode": {
    "name": "ipython",
    "version": 3
   },
   "file_extension": ".py",
   "mimetype": "text/x-python",
   "name": "python",
   "nbconvert_exporter": "python",
   "pygments_lexer": "ipython3",
   "version": "3.8.9"
  },
  "vscode": {
   "interpreter": {
    "hash": "c832d7484f5309518cfde0673783efa393571fb308dcd4454026f0e6baf93c8e"
   }
  }
 },
 "nbformat": 4,
 "nbformat_minor": 5
}
