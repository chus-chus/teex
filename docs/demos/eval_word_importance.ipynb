{
 "cells": [
  {
   "cell_type": "markdown",
   "id": "9c354bc1-266d-414d-821c-9b4644a0fcaa",
   "metadata": {},
   "source": [
    "# teex\n",
    "\n",
    "### Evaluation of explanation quality: word importance vectors\n",
    "\n",
    "In this notebook, we are going to explore how we can use **teex** to evaluate word importance explanations"
   ]
  },
  {
   "cell_type": "code",
   "execution_count": null,
   "id": "f2ae941b-125a-4bce-8b95-3616ce97902d",
   "metadata": {},
   "outputs": [],
   "source": []
  }
 ],
 "metadata": {
  "kernelspec": {
   "display_name": "teex",
   "language": "python",
   "name": "teex"
  },
  "language_info": {
   "codemirror_mode": {
    "name": "ipython",
    "version": 3
   },
   "file_extension": ".py",
   "mimetype": "text/x-python",
   "name": "python",
   "nbconvert_exporter": "python",
   "pygments_lexer": "ipython3",
   "version": "3.8.6"
  }
 },
 "nbformat": 4,
 "nbformat_minor": 5
}
