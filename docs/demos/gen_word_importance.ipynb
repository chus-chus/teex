{
 "cells": [
  {
   "cell_type": "markdown",
   "id": "bddc9614-a0f3-47b8-8c44-bdbcb4513837",
   "metadata": {},
   "source": [
    "# teex\n",
    "\n",
    "### Generating data with available g.t. word importance explanations"
   ]
  },
  {
   "cell_type": "markdown",
   "id": "9e6654d8",
   "metadata": {},
   "source": [
    "We are going to see an example of data generation with g.t. word importance explanations."
   ]
  },
  {
   "cell_type": "code",
   "execution_count": 25,
   "id": "db2b97ea",
   "metadata": {},
   "outputs": [],
   "source": [
    "from teex.wordImportance.data import Newsgroup\n",
    "\n",
    "import numpy as np"
   ]
  },
  {
   "cell_type": "markdown",
   "id": "c7d0f73a",
   "metadata": {},
   "source": [
    "Word importance representations in **teex** are presented as dictionaries. These dictionaries contain as keys all of the words (or at least the relevant ones / the ones that have been scored) in a text, and as values the scores. Let's see an example:"
   ]
  },
  {
   "cell_type": "code",
   "execution_count": 4,
   "id": "516f2d8a",
   "metadata": {},
   "outputs": [],
   "source": [
    "dataGen = Newsgroup()\n",
    "X, y, exps = dataGen[:]"
   ]
  },
  {
   "cell_type": "markdown",
   "id": "050cdf2f",
   "metadata": {},
   "source": [
    "The Newsgroup dataset contains texts from emails that correspond to either a medical or an electronic class:"
   ]
  },
  {
   "cell_type": "code",
   "execution_count": 5,
   "id": "e5c40f54",
   "metadata": {
    "scrolled": true
   },
   "outputs": [
    {
     "data": {
      "text/plain": [
       "{0: 'electronics', 1: 'medicine'}"
      ]
     },
     "execution_count": 5,
     "metadata": {},
     "output_type": "execute_result"
    }
   ],
   "source": [
    "dataGen.classMap"
   ]
  },
  {
   "cell_type": "markdown",
   "id": "64c459af",
   "metadata": {},
   "source": [
    "Each text is represented as a string:"
   ]
  },
  {
   "cell_type": "code",
   "execution_count": 9,
   "id": "9e1b177d",
   "metadata": {},
   "outputs": [
    {
     "data": {
      "text/plain": [
       "b\"From: cfb@fc.hp.com (Charlie Brett)\\nSubject: Re: Hi Volt from battery\\nNntp-Posting-Host: hpfcmgw.fc.hp.com\\nOrganization: Hewlett-Packard Fort Collins Site\\nX-Newsreader: TIN [version 1.1 PL8.5]\\nLines: 7\\n\\nYou might want to get a disposible flash camera, shoot the roll of film,\\nthen take it apart (they're snapped together). We used a bunch of them\\nat my wedding, but instead of sending the whole camera in, I just took\\nthe film out (it's a standard 35mm canister), and kept the batteries\\n(they use one AA battery). Sorry, I didn't keep any of the flash electronics.\\n\\n          Charlie Brett - Ft. Collins, CO\\n\""
      ]
     },
     "execution_count": 9,
     "metadata": {},
     "output_type": "execute_result"
    }
   ],
   "source": [
    "X[3]"
   ]
  },
  {
   "cell_type": "markdown",
   "id": "c12377c6",
   "metadata": {},
   "source": [
    "corresponds to a specific class:"
   ]
  },
  {
   "cell_type": "code",
   "execution_count": 10,
   "id": "ea25167b",
   "metadata": {},
   "outputs": [
    {
     "data": {
      "text/plain": [
       "'electronics'"
      ]
     },
     "execution_count": 10,
     "metadata": {},
     "output_type": "execute_result"
    }
   ],
   "source": [
    "dataGen.classMap[y[3]]"
   ]
  },
  {
   "cell_type": "markdown",
   "id": "9133c921",
   "metadata": {},
   "source": [
    "and has a ground truth explanation with the format explained above:"
   ]
  },
  {
   "cell_type": "code",
   "execution_count": 11,
   "id": "d18b28e0",
   "metadata": {},
   "outputs": [
    {
     "data": {
      "text/plain": [
       "{'volt': 1.0,\n",
       " 'battery': 1.0,\n",
       " 'batteries': 0.5,\n",
       " 'electronics': 1.0,\n",
       " 'flash': 0.5}"
      ]
     },
     "execution_count": 11,
     "metadata": {},
     "output_type": "execute_result"
    }
   ],
   "source": [
    "exps[3]"
   ]
  },
  {
   "cell_type": "markdown",
   "id": "a97b39d1",
   "metadata": {},
   "source": [
    "In this instance, the words in the explanation are the ones that characterize the text as pertaining to the \"electronics\" class. A medical example could be:"
   ]
  },
  {
   "cell_type": "code",
   "execution_count": 38,
   "id": "6061b42b",
   "metadata": {},
   "outputs": [
    {
     "data": {
      "text/plain": [
       "b\"From: oldman@coos.dartmouth.edu (Prakash Das)\\nSubject: Re: Is MSG sensitivity superstition?\\nArticle-I.D.: dartvax.C60KrL.59t\\nOrganization: Dartmouth College, Hanover, NH\\nLines: 19\\n\\nIn article <1993Apr20.173019.11903@llyene.jpl.nasa.gov> julie@eddie.jpl.nasa.gov (Julie Kangas) writes:\\n>\\n>As for how foods taste:  If I'm not allergic to MSG and I like\\n>the taste of it, why shouldn't I use it?  Saying I shouldn't use\\n>it is like saying I shouldn't eat spicy food because my neighbor\\n>has an ulcer.\\n\\nJulie, it doesn't necessarily follow that you should use it (MSG or\\nsomething else for that matter) simply because you are not allergic\\nto it. For example you might not be allergic to (animal) fats, and\\nlike their taste, yet it doesn't follow that you should be using them\\n(regularly). MSG might have other bad (or good, I am not up on \\nknowledge of MSG) effects on your body in the long run, maybe that's\\nreason enough not to use it. \\n\\nAltho' your example of the ulcer is funny, it isn't an\\nappropriate comparison at all.\\n\\n-Prakash Das\\n\""
      ]
     },
     "execution_count": 38,
     "metadata": {},
     "output_type": "execute_result"
    }
   ],
   "source": [
    "X[23]"
   ]
  },
  {
   "cell_type": "code",
   "execution_count": 39,
   "id": "80bc99a7",
   "metadata": {},
   "outputs": [
    {
     "data": {
      "text/plain": [
       "'medicine'"
      ]
     },
     "execution_count": 39,
     "metadata": {},
     "output_type": "execute_result"
    }
   ],
   "source": [
    "dataGen.classMap[y[23]]"
   ]
  },
  {
   "cell_type": "code",
   "execution_count": 40,
   "id": "2afa99a0",
   "metadata": {},
   "outputs": [
    {
     "data": {
      "text/plain": [
       "{'msg': 0.5, 'ulcer': 0.5, 'allergic': 1.0, 'sensitivity': 0.5}"
      ]
     },
     "execution_count": 40,
     "metadata": {},
     "output_type": "execute_result"
    }
   ],
   "source": [
    "exps[23]"
   ]
  },
  {
   "cell_type": "markdown",
   "id": "c138cb46-c0d4-4377-9260-6080f85c9f45",
   "metadata": {},
   "source": [
    "<p float=\"left\">\n",
    "  <img src=\"https://taiao.ai/img/6825_TAIAO_logo_1000x320.jpg\" alt=\"drawing\" style=\"width:150px;\"/>\n",
    "  <img src=\"https://www.bourses-etudiants.ma/wp-content/uploads/2018/06/University-of-Waikato-logo.png\" alt=\"drawing\" style=\"width:150px;\"/>\n",
    "  <img src=\"https://www.upc.edu/comunicacio/ca/identitat/descarrega-arxius-grafics/fitxers-marca-principal/upc-positiu-p3005.png\" alt=\"drawing\" style=\"width:200px;\"/>\n",
    "</p>"
   ]
  }
 ],
 "metadata": {
  "kernelspec": {
   "display_name": "Python 3",
   "language": "python",
   "name": "python3"
  },
  "language_info": {
   "codemirror_mode": {
    "name": "ipython",
    "version": 3
   },
   "file_extension": ".py",
   "mimetype": "text/x-python",
   "name": "python",
   "nbconvert_exporter": "python",
   "pygments_lexer": "ipython3",
   "version": "3.8.6"
  }
 },
 "nbformat": 4,
 "nbformat_minor": 5
}
